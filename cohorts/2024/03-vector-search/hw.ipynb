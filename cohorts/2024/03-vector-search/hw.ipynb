{
 "cells": [
  {
   "cell_type": "markdown",
   "metadata": {},
   "source": [
    "# Homework 03 Vector Search"
   ]
  },
  {
   "cell_type": "markdown",
   "metadata": {},
   "source": [
    "## Q1. Getting the embeddings model"
   ]
  },
  {
   "cell_type": "code",
   "execution_count": 1,
   "metadata": {},
   "outputs": [
    {
     "name": "stderr",
     "output_type": "stream",
     "text": [
      "/opt/homebrew/anaconda3/envs/zoomcamp/lib/python3.12/site-packages/sentence_transformers/cross_encoder/CrossEncoder.py:11: TqdmExperimentalWarning: Using `tqdm.autonotebook.tqdm` in notebook mode. Use `tqdm.tqdm` instead to force console mode (e.g. in jupyter console)\n",
      "  from tqdm.autonotebook import tqdm, trange\n"
     ]
    }
   ],
   "source": [
    "from sentence_transformers import SentenceTransformer, util\n",
    "import requests\n",
    "import numpy as np\n",
    "from tqdm.notebook import tqdm"
   ]
  },
  {
   "cell_type": "code",
   "execution_count": 2,
   "metadata": {},
   "outputs": [],
   "source": [
    "model_name = \"multi-qa-distilbert-cos-v1\"\n",
    "embedding_model = SentenceTransformer(model_name)"
   ]
  },
  {
   "cell_type": "code",
   "execution_count": 3,
   "metadata": {},
   "outputs": [
    {
     "data": {
      "text/plain": [
       "0.07822262"
      ]
     },
     "execution_count": 3,
     "metadata": {},
     "output_type": "execute_result"
    }
   ],
   "source": [
    "user_question = \"I just discovered the course. Can I still join it?\"\n",
    "embedding_vector = embedding_model.encode([user_question])[0]\n",
    "embedding_vector[0]"
   ]
  },
  {
   "cell_type": "markdown",
   "metadata": {},
   "source": [
    "Sense check [passed]"
   ]
  },
  {
   "cell_type": "code",
   "execution_count": 4,
   "metadata": {},
   "outputs": [
    {
     "data": {
      "text/plain": [
       "tensor([[ 101, 1045, 2074, 3603, 1996, 2607, 1012, 2064, 1045, 2145, 3693, 2009,\n",
       "         1029,  102]])"
      ]
     },
     "execution_count": 4,
     "metadata": {},
     "output_type": "execute_result"
    }
   ],
   "source": [
    "token_ids = embedding_model.tokenize([user_question])[\"input_ids\"]\n",
    "token_ids"
   ]
  },
  {
   "cell_type": "code",
   "execution_count": 5,
   "metadata": {},
   "outputs": [
    {
     "data": {
      "text/plain": [
       "tensor([[ 101, 1045, 2074, 3603, 1996, 2607, 1012, 2064, 1045, 2145, 3693, 2009,\n",
       "         1029,  102]])"
      ]
     },
     "execution_count": 5,
     "metadata": {},
     "output_type": "execute_result"
    }
   ],
   "source": [
    "token_ids"
   ]
  },
  {
   "cell_type": "code",
   "execution_count": 6,
   "metadata": {},
   "outputs": [
    {
     "data": {
      "text/plain": [
       "['[CLS]',\n",
       " 'i',\n",
       " 'just',\n",
       " 'discovered',\n",
       " 'the',\n",
       " 'course',\n",
       " '.',\n",
       " 'can',\n",
       " 'i',\n",
       " 'still',\n",
       " 'join',\n",
       " 'it',\n",
       " '?',\n",
       " '[SEP]']"
      ]
     },
     "execution_count": 6,
     "metadata": {},
     "output_type": "execute_result"
    }
   ],
   "source": [
    "embedding_model.tokenizer.convert_ids_to_tokens(token_ids[0].numpy())"
   ]
  },
  {
   "cell_type": "markdown",
   "metadata": {},
   "source": [
    "## Q2. Creating the embeddings"
   ]
  },
  {
   "cell_type": "code",
   "execution_count": 7,
   "metadata": {},
   "outputs": [],
   "source": [
    "base_url = 'https://github.com/DataTalksClub/llm-zoomcamp/blob/main'\n",
    "relative_url = '03-vector-search/eval/documents-with-ids.json'\n",
    "docs_url = f'{base_url}/{relative_url}?raw=1'\n",
    "docs_response = requests.get(docs_url)\n",
    "documents = docs_response.json()"
   ]
  },
  {
   "cell_type": "code",
   "execution_count": 8,
   "metadata": {},
   "outputs": [
    {
     "data": {
      "application/vnd.jupyter.widget-view+json": {
       "model_id": "85ec9f453a0a4d959b90904f5fd516dd",
       "version_major": 2,
       "version_minor": 0
      },
      "text/plain": [
       "Batches:   0%|          | 0/30 [00:00<?, ?it/s]"
      ]
     },
     "metadata": {},
     "output_type": "display_data"
    }
   ],
   "source": [
    "docs = [\n",
    "    f\"{doc['question']} {doc['text']}\"\n",
    "    for doc in documents\n",
    "]\n",
    "embeddings = embedding_model.encode(docs, show_progress_bar=True)"
   ]
  },
  {
   "cell_type": "markdown",
   "metadata": {},
   "source": [
    "The 1st dimension match with the number of documents, the second with the model output dimensionality"
   ]
  },
  {
   "cell_type": "code",
   "execution_count": 9,
   "metadata": {},
   "outputs": [],
   "source": [
    "assert len(documents) == embeddings.shape[0]\n",
    "assert embeddings.shape[1] == embedding_model.get_sentence_embedding_dimension()"
   ]
  },
  {
   "cell_type": "code",
   "execution_count": 10,
   "metadata": {},
   "outputs": [
    {
     "data": {
      "text/plain": [
       "(948, 768)"
      ]
     },
     "execution_count": 10,
     "metadata": {},
     "output_type": "execute_result"
    }
   ],
   "source": [
    "embeddings.shape"
   ]
  },
  {
   "cell_type": "markdown",
   "metadata": {},
   "source": [
    "## Q3. Search"
   ]
  },
  {
   "cell_type": "markdown",
   "metadata": {},
   "source": [
    "We're including a <question> to the doc in the\n",
    "\n",
    "```python\n",
    "qa_text = f'{question} {text}'\n",
    "```\n",
    "\n",
    "Such trick is useful for Elastic Search (when you expect the new question intersects with the original one by some words)\n",
    "But it could hurt these cos-similarity models due to how they are trained/fine-tuned.\n",
    "\n",
    "When you use sentence embeddings you expect the system to be smart and it doesn't rely on the same words, but \"gets the meaning\" instead.\n",
    "When the question in the db and query are very similar, it can improve the similarity, but I don't expect this."
   ]
  },
  {
   "cell_type": "code",
   "execution_count": 11,
   "metadata": {},
   "outputs": [
    {
     "data": {
      "text/plain": [
       "[0.8703423142433167, 0.4522414803504944]"
      ]
     },
     "execution_count": 11,
     "metadata": {},
     "output_type": "execute_result"
    }
   ],
   "source": [
    "query = \"How many people live in London?\"\n",
    "db = embedding_model.encode([\n",
    "    \"Around 9 Million people live in London\",\n",
    "    \"London is known for its financial district\"\n",
    "])\n",
    "\n",
    "\n",
    "util.dot_score(embedding_model.encode(query), db)[0].cpu().tolist()"
   ]
  },
  {
   "cell_type": "markdown",
   "metadata": {},
   "source": [
    "Including a re-formulated question to the answer decreases the score."
   ]
  },
  {
   "cell_type": "code",
   "execution_count": 12,
   "metadata": {},
   "outputs": [
    {
     "data": {
      "text/plain": [
       "[0.8537825345993042, 0.4601653814315796]"
      ]
     },
     "execution_count": 12,
     "metadata": {},
     "output_type": "execute_result"
    }
   ],
   "source": [
    "query = \"How many people live in London?\"\n",
    "db = embedding_model.encode([\n",
    "    \"What is the population of London? Around 9 Million people live in London\",\n",
    "    \"What is London known for? London is known for its financial district\"\n",
    "])\n",
    "\n",
    "\n",
    "util.dot_score(embedding_model.encode(query), db)[0].cpu().tolist()"
   ]
  },
  {
   "cell_type": "markdown",
   "metadata": {},
   "source": [
    "Anyway, the reference solutions include the questions in the answers, so let's proceed."
   ]
  },
  {
   "cell_type": "code",
   "execution_count": 13,
   "metadata": {},
   "outputs": [
    {
     "data": {
      "text/plain": [
       "0.65065736"
      ]
     },
     "execution_count": 13,
     "metadata": {},
     "output_type": "execute_result"
    }
   ],
   "source": [
    "scores = util.dot_score(embedding_model.encode(user_question), embeddings)[0].cpu().numpy()\n",
    "scores.max()"
   ]
  },
  {
   "cell_type": "markdown",
   "metadata": {},
   "source": [
    "## Q4. Hit-rate for our search engine"
   ]
  },
  {
   "cell_type": "code",
   "execution_count": 39,
   "metadata": {},
   "outputs": [],
   "source": [
    "class VectorSearchEngine:\n",
    "    def __init__(self, \n",
    "                 documents: list[dict],\n",
    "                 model: SentenceTransformer) -> None:\n",
    "        self.__document_ids = [doc[\"id\"] for doc in documents]\n",
    "        self.__model = model\n",
    "        texts = [\n",
    "            f\"{doc['question']} {doc['text']}\"\n",
    "            for doc in documents\n",
    "        ]\n",
    "        self.__embeddings = model.encode(texts, show_progress_bar=True)\n",
    "\n",
    "    @property\n",
    "    def embeddings(self) -> np.ndarray:\n",
    "        return self.__embeddings.cpu().numpy()\n",
    "\n",
    "    def search(self, query, num_results: int=10):\n",
    "        scores = util.dot_score(\n",
    "            self.__model.encode(query), \n",
    "            self.__embeddings\n",
    "        )[0].cpu().numpy()\n",
    "        candidate_idx = np.argpartition(-scores, num_results)[:num_results]\n",
    "        idx = candidate_idx[np.argsort(-scores[candidate_idx])]\n",
    "        return [self.__document_ids[i] for i in idx]"
   ]
  },
  {
   "cell_type": "code",
   "execution_count": 40,
   "metadata": {},
   "outputs": [],
   "source": [
    "import pandas as pd\n",
    "\n",
    "base_url = 'https://github.com/DataTalksClub/llm-zoomcamp/blob/main'\n",
    "relative_url = '03-vector-search/eval/ground-truth-data.csv'\n",
    "ground_truth_url = f'{base_url}/{relative_url}?raw=1'\n",
    "\n",
    "df_ground_truth = pd.read_csv(ground_truth_url)\n",
    "df_ground_truth = df_ground_truth[df_ground_truth.course == 'machine-learning-zoomcamp']\n",
    "ground_truth = df_ground_truth.to_dict(orient='records')"
   ]
  },
  {
   "cell_type": "code",
   "execution_count": 41,
   "metadata": {},
   "outputs": [],
   "source": [
    "def compute_hit_rate(ground_truth: list[dict],\n",
    "                     search_engine: VectorSearchEngine,\n",
    "                     num_results: int) -> float:\n",
    "    questions = (doc[\"question\"] for doc in ground_truth)\n",
    "    y_pred = (\n",
    "        search_engine.search(query=q, num_results=num_results)\n",
    "        for q in questions\n",
    "    )\n",
    "    y_true = (doc[\"document\"] for doc in ground_truth)\n",
    "    hit_generator = tqdm(zip(y_pred, y_true), total=len(ground_truth))\n",
    "    hits = [\n",
    "        1.0 if correct in pred else 0.0\n",
    "        for (pred, correct) in hit_generator\n",
    "    ]\n",
    "    return np.mean(hits)"
   ]
  },
  {
   "cell_type": "code",
   "execution_count": 42,
   "metadata": {},
   "outputs": [
    {
     "data": {
      "application/vnd.jupyter.widget-view+json": {
       "model_id": "f3b7d4e10edb41059b64615bcc073075",
       "version_major": 2,
       "version_minor": 0
      },
      "text/plain": [
       "Batches:   0%|          | 0/30 [00:00<?, ?it/s]"
      ]
     },
     "metadata": {},
     "output_type": "display_data"
    },
    {
     "data": {
      "application/vnd.jupyter.widget-view+json": {
       "model_id": "7f7553f4302640cdb944a3a67864fbda",
       "version_major": 2,
       "version_minor": 0
      },
      "text/plain": [
       "  0%|          | 0/1830 [00:00<?, ?it/s]"
      ]
     },
     "metadata": {},
     "output_type": "display_data"
    },
    {
     "data": {
      "text/plain": [
       "0.9218579234972678"
      ]
     },
     "execution_count": 42,
     "metadata": {},
     "output_type": "execute_result"
    }
   ],
   "source": [
    "search_engine = VectorSearchEngine(documents=documents, model=embedding_model)\n",
    "hit_rate = compute_hit_rate(ground_truth=ground_truth, search_engine=search_engine, num_results=5)\n",
    "hit_rate"
   ]
  },
  {
   "cell_type": "markdown",
   "metadata": {},
   "source": [
    "## Q5. Indexing with Elasticsearch"
   ]
  },
  {
   "cell_type": "code",
   "execution_count": 34,
   "metadata": {},
   "outputs": [
    {
     "name": "stderr",
     "output_type": "stream",
     "text": [
      "huggingface/tokenizers: The current process just got forked, after parallelism has already been used. Disabling parallelism to avoid deadlocks...\n",
      "To disable this warning, you can either:\n",
      "\t- Avoid using `tokenizers` before the fork if possible\n",
      "\t- Explicitly set the environment variable TOKENIZERS_PARALLELISM=(true | false)\n"
     ]
    },
    {
     "name": "stdout",
     "output_type": "stream",
     "text": [
      "8f8dba2fb3fb084e737f01c37d32f4ca65bd5883ebb0e5ecaad7b1ed41dcb176\n"
     ]
    }
   ],
   "source": [
    "!docker run -it \\\n",
    "    --rm \\\n",
    "    --name elasticsearch \\\n",
    "    -d \\\n",
    "    -p 9200:9200 \\\n",
    "    -p 9300:9300 \\\n",
    "    -e \"discovery.type=single-node\" \\\n",
    "    -e \"xpack.security.enabled=false\" \\\n",
    "    docker.elastic.co/elasticsearch/elasticsearch:8.4.3"
   ]
  },
  {
   "cell_type": "code",
   "execution_count": 37,
   "metadata": {},
   "outputs": [
    {
     "data": {
      "text/plain": [
       "ObjectApiResponse({'name': '8f8dba2fb3fb', 'cluster_name': 'docker-cluster', 'cluster_uuid': 'sxcBZ5S0QH-kdf9MRUBWKw', 'version': {'number': '8.4.3', 'build_flavor': 'default', 'build_type': 'docker', 'build_hash': '42f05b9372a9a4a470db3b52817899b99a76ee73', 'build_date': '2022-10-04T07:17:24.662462378Z', 'build_snapshot': False, 'lucene_version': '9.3.0', 'minimum_wire_compatibility_version': '7.17.0', 'minimum_index_compatibility_version': '7.0.0'}, 'tagline': 'You Know, for Search'})"
      ]
     },
     "execution_count": 37,
     "metadata": {},
     "output_type": "execute_result"
    }
   ],
   "source": [
    "from elasticsearch import Elasticsearch\n",
    "es_client = Elasticsearch('http://localhost:9200') \n",
    "\n",
    "es_client.info()"
   ]
  },
  {
   "cell_type": "code",
   "execution_count": 38,
   "metadata": {},
   "outputs": [],
   "source": [
    "index_settings = {\n",
    "    \"settings\": {\n",
    "        \"number_of_shards\": 1,\n",
    "        \"number_of_replicas\": 0\n",
    "    },\n",
    "    \"mappings\": {\n",
    "        \"properties\": {\n",
    "            \"text\": {\"type\": \"text\"},\n",
    "            \"section\": {\"type\": \"text\"},\n",
    "            \"question\": {\"type\": \"text\"},\n",
    "            \"course\": {\"type\": \"keyword\"} ,\n",
    "            \"text_vector\": {\"type\": \"dense_vector\", \"dims\": 768, \"index\": True, \"similarity\": \"cosine\"},\n",
    "        }\n",
    "    }\n",
    "}"
   ]
  },
  {
   "cell_type": "code",
   "execution_count": 84,
   "metadata": {},
   "outputs": [
    {
     "data": {
      "text/plain": [
       "ObjectApiResponse({'acknowledged': True, 'shards_acknowledged': True, 'index': 'course-questions'})"
      ]
     },
     "execution_count": 84,
     "metadata": {},
     "output_type": "execute_result"
    }
   ],
   "source": [
    "index_name = \"course-questions\"\n",
    "\n",
    "es_client.indices.delete(index=index_name, ignore_unavailable=True)\n",
    "es_client.indices.create(index=index_name, body=index_settings)"
   ]
  },
  {
   "cell_type": "code",
   "execution_count": 85,
   "metadata": {},
   "outputs": [
    {
     "data": {
      "application/vnd.jupyter.widget-view+json": {
       "model_id": "c9b61a6e134f48439e2cb0cf6c0e9005",
       "version_major": 2,
       "version_minor": 0
      },
      "text/plain": [
       "  0%|          | 0/948 [00:00<?, ?it/s]"
      ]
     },
     "metadata": {},
     "output_type": "display_data"
    }
   ],
   "source": [
    "for doc in tqdm(documents):\n",
    "    try:\n",
    "        doc[\"text_vector\"] = (\n",
    "            embedding_model\n",
    "            .encode(f\"{doc['question']} {doc['text']}\")\n",
    "            .tolist()\n",
    "        )\n",
    "        es_client.index(index=index_name, document=doc)\n",
    "    except Exception as e:\n",
    "        print(e)"
   ]
  },
  {
   "cell_type": "code",
   "execution_count": 90,
   "metadata": {},
   "outputs": [],
   "source": [
    "assert (\n",
    "    es_client\n",
    "    .indices\n",
    "    .stats(index=index_name)\n",
    "    .body[\"_all\"][\"primaries\"][\"docs\"][\"count\"]\n",
    "    ) == len(documents)"
   ]
  },
  {
   "cell_type": "code",
   "execution_count": 114,
   "metadata": {},
   "outputs": [],
   "source": [
    "class ESSearchEngine:\n",
    "    def __init__(self,\n",
    "                 es_client: Elasticsearch,\n",
    "                 index_name: str) -> None:\n",
    "        if not es_client.indices.exists(index=index_name).body:\n",
    "            raise KeyError(\"Index must be filled up externally\")\n",
    "        self.__es_client = es_client\n",
    "        self.__index_name = index_name\n",
    "        # hardcoded\n",
    "        self.__num_candidates = 10_000\n",
    "\n",
    "    def search(self, query_vector: np.ndarray, num_results: int=10):\n",
    "        knn_query = {\n",
    "            \"field\": \"text_vector\",\n",
    "            \"query_vector\": query_vector,\n",
    "            \"k\": num_results,\n",
    "            \"num_candidates\": self.__num_candidates, \n",
    "        }\n",
    "        response = self.__es_client.search(\n",
    "            index=index_name,\n",
    "            # Additional filters, i.e. section\n",
    "            query=None,\n",
    "            knn=knn_query,\n",
    "            size=num_results,\n",
    "        )\n",
    "        return [hit[\"_source\"][\"id\"] for hit in response[\"hits\"][\"hits\"]]"
   ]
  },
  {
   "cell_type": "code",
   "execution_count": 115,
   "metadata": {},
   "outputs": [],
   "source": [
    "es_search_engine = ESSearchEngine(\n",
    "    es_client=es_client,\n",
    "    index_name=index_name,\n",
    ")"
   ]
  },
  {
   "cell_type": "code",
   "execution_count": 116,
   "metadata": {},
   "outputs": [
    {
     "data": {
      "text/plain": [
       "['ee58a693']"
      ]
     },
     "execution_count": 116,
     "metadata": {},
     "output_type": "execute_result"
    }
   ],
   "source": [
    "es_search_engine.search(embedding_model.encode(user_question), num_results=1)"
   ]
  },
  {
   "cell_type": "code",
   "execution_count": 117,
   "metadata": {},
   "outputs": [
    {
     "data": {
      "text/plain": [
       "[{'text': 'Yes, you can. You won’t be able to submit some of the homeworks, but you can still take part in the course.\\nIn order to get a certificate, you need to submit 2 out of 3 course projects and review 3 peers’ Projects by the deadline. It means that if you join the course at the end of November and manage to work on two projects, you will still be eligible for a certificate.',\n",
       "  'section': 'General course-related questions',\n",
       "  'question': 'The course has already started. Can I still join it?',\n",
       "  'course': 'machine-learning-zoomcamp',\n",
       "  'id': 'ee58a693',\n",
       "  'text_vector': [0.08062857389450073,\n",
       "   -0.06663881987333298,\n",
       "   0.02527313306927681,\n",
       "   -0.013004389591515064,\n",
       "   0.07587283104658127,\n",
       "   -0.059462644159793854,\n",
       "   -0.02188391610980034,\n",
       "   0.0029000581707805395,\n",
       "   0.0007929443963803351,\n",
       "   -0.005222355481237173,\n",
       "   -0.03365180268883705,\n",
       "   -0.027913551777601242,\n",
       "   0.058116547763347626,\n",
       "   0.03974829614162445,\n",
       "   0.05441856011748314,\n",
       "   -0.0382516048848629,\n",
       "   0.06305743008852005,\n",
       "   -0.038969870656728745,\n",
       "   0.00043357189861126244,\n",
       "   -0.03558454290032387,\n",
       "   0.0017563876463100314,\n",
       "   0.025700317695736885,\n",
       "   -0.0019694664515554905,\n",
       "   0.034287385642528534,\n",
       "   -0.011014510877430439,\n",
       "   0.10011613368988037,\n",
       "   0.008427167311310768,\n",
       "   0.049922071397304535,\n",
       "   0.034274544566869736,\n",
       "   -0.002614556346088648,\n",
       "   0.024575989693403244,\n",
       "   -0.013860911130905151,\n",
       "   0.08861221373081207,\n",
       "   0.0014741262421011925,\n",
       "   0.028801480308175087,\n",
       "   -0.047437623143196106,\n",
       "   -0.08680645376443863,\n",
       "   -0.026768386363983154,\n",
       "   -0.04616482928395271,\n",
       "   -0.020848305895924568,\n",
       "   -0.0108261713758111,\n",
       "   0.06644945591688156,\n",
       "   -0.010411086492240429,\n",
       "   0.008967619389295578,\n",
       "   0.012446424923837185,\n",
       "   -0.04020414873957634,\n",
       "   -0.010366554372012615,\n",
       "   -0.04094422981142998,\n",
       "   0.013511160388588905,\n",
       "   0.04443683102726936,\n",
       "   0.005282947793602943,\n",
       "   0.008584577590227127,\n",
       "   -0.0033754666801542044,\n",
       "   -0.05430132895708084,\n",
       "   0.00412752665579319,\n",
       "   -0.044579584151506424,\n",
       "   -0.006450672633945942,\n",
       "   -0.06001820042729378,\n",
       "   0.01819605752825737,\n",
       "   0.052631352096796036,\n",
       "   -0.01446155458688736,\n",
       "   0.0006670911097899079,\n",
       "   -0.018245350569486618,\n",
       "   0.011038227938115597,\n",
       "   -0.06452493369579315,\n",
       "   -0.023117436096072197,\n",
       "   0.04312719404697418,\n",
       "   -0.019158143550157547,\n",
       "   -0.07387655973434448,\n",
       "   0.012065292336046696,\n",
       "   0.01828683540225029,\n",
       "   0.027240922674536705,\n",
       "   -0.023993156850337982,\n",
       "   -0.010300865396857262,\n",
       "   -0.0074534788727760315,\n",
       "   -0.05034147948026657,\n",
       "   -0.005919874645769596,\n",
       "   0.035289403051137924,\n",
       "   -0.0003591785207390785,\n",
       "   0.03951314091682434,\n",
       "   0.09393969923257828,\n",
       "   0.02445482648909092,\n",
       "   -0.023560499772429466,\n",
       "   0.02228131890296936,\n",
       "   -0.0207161083817482,\n",
       "   0.045588813722133636,\n",
       "   -0.047378167510032654,\n",
       "   -0.025200707837939262,\n",
       "   0.01982746459543705,\n",
       "   0.06504782289266586,\n",
       "   0.011071650311350822,\n",
       "   0.024017175659537315,\n",
       "   -0.018678026273846626,\n",
       "   -0.03513513505458832,\n",
       "   0.05103200674057007,\n",
       "   0.03316847234964371,\n",
       "   -0.06493556499481201,\n",
       "   -0.0025912609416991472,\n",
       "   0.0242451224476099,\n",
       "   -0.026715286076068878,\n",
       "   -0.011911632493138313,\n",
       "   0.026161445304751396,\n",
       "   0.029105814173817635,\n",
       "   0.0445241816341877,\n",
       "   0.04020356386899948,\n",
       "   0.004695866256952286,\n",
       "   -0.03120318055152893,\n",
       "   -0.03903741389513016,\n",
       "   -0.03850163146853447,\n",
       "   -0.004076033364981413,\n",
       "   -0.008816398680210114,\n",
       "   -0.02941150777041912,\n",
       "   0.00544286984950304,\n",
       "   0.008991880342364311,\n",
       "   0.012604824267327785,\n",
       "   -0.011535695753991604,\n",
       "   0.02970295399427414,\n",
       "   0.00034181360388174653,\n",
       "   -0.05606935918331146,\n",
       "   -0.008227650076150894,\n",
       "   -0.08124231547117233,\n",
       "   0.011085149832069874,\n",
       "   0.0028504589572548866,\n",
       "   0.05088241025805473,\n",
       "   0.015889527276158333,\n",
       "   0.08773408830165863,\n",
       "   -0.026355154812335968,\n",
       "   -0.030333301052451134,\n",
       "   -0.01599648781120777,\n",
       "   -0.04538353905081749,\n",
       "   0.019612252712249756,\n",
       "   0.00273447809740901,\n",
       "   0.026489362120628357,\n",
       "   -0.020275497809052467,\n",
       "   0.014918560162186623,\n",
       "   0.013398963026702404,\n",
       "   0.010780327022075653,\n",
       "   -0.03665371239185333,\n",
       "   -0.013181383721530437,\n",
       "   0.027653103694319725,\n",
       "   -0.06379157304763794,\n",
       "   0.014417569153010845,\n",
       "   0.02121196873486042,\n",
       "   0.03459169715642929,\n",
       "   -0.02880982495844364,\n",
       "   0.06174807995557785,\n",
       "   -0.053944047540426254,\n",
       "   0.08251164853572845,\n",
       "   -0.05849297344684601,\n",
       "   0.015298043377697468,\n",
       "   0.020233124494552612,\n",
       "   0.005605961661785841,\n",
       "   -0.024110229685902596,\n",
       "   0.020251570269465446,\n",
       "   0.03723442927002907,\n",
       "   0.005813186522573233,\n",
       "   0.0010559129295870662,\n",
       "   0.01966192200779915,\n",
       "   -0.021729925647377968,\n",
       "   -0.02619883045554161,\n",
       "   0.005376399960368872,\n",
       "   0.013171542435884476,\n",
       "   0.05465471372008324,\n",
       "   0.014049181714653969,\n",
       "   0.0005742204957641661,\n",
       "   0.03113887645304203,\n",
       "   0.013665370643138885,\n",
       "   -0.08014437556266785,\n",
       "   0.034431092441082,\n",
       "   -0.016334710642695427,\n",
       "   -0.05505792051553726,\n",
       "   -0.0471392422914505,\n",
       "   -0.014994886703789234,\n",
       "   -0.051261790096759796,\n",
       "   -0.004653729032725096,\n",
       "   -0.03561978414654732,\n",
       "   0.0063873822800815105,\n",
       "   0.011279132217168808,\n",
       "   0.013444115407764912,\n",
       "   -0.03834083676338196,\n",
       "   -0.05743923783302307,\n",
       "   0.01244169007986784,\n",
       "   0.016571424901485443,\n",
       "   -0.06064523011445999,\n",
       "   -0.02947762981057167,\n",
       "   0.03907691314816475,\n",
       "   -0.023900853469967842,\n",
       "   0.019610567018389702,\n",
       "   -0.06993944197893143,\n",
       "   0.038811344653367996,\n",
       "   0.019404903054237366,\n",
       "   0.04165254160761833,\n",
       "   0.009238406084477901,\n",
       "   -0.03109642118215561,\n",
       "   0.019866783171892166,\n",
       "   -0.01580905169248581,\n",
       "   0.005950269754976034,\n",
       "   0.04914407059550285,\n",
       "   0.006962385959923267,\n",
       "   0.023417236283421516,\n",
       "   0.06615479290485382,\n",
       "   0.06571216136217117,\n",
       "   0.00772322341799736,\n",
       "   -0.04209893196821213,\n",
       "   -0.036194127053022385,\n",
       "   0.009588166140019894,\n",
       "   0.035034485161304474,\n",
       "   0.05541065335273743,\n",
       "   -0.035687752068042755,\n",
       "   -0.029208259657025337,\n",
       "   -0.010334691032767296,\n",
       "   0.028930887579917908,\n",
       "   0.0719071626663208,\n",
       "   0.018793001770973206,\n",
       "   0.014106436632573605,\n",
       "   0.042722783982753754,\n",
       "   0.03475484251976013,\n",
       "   0.024854891002178192,\n",
       "   0.029334060847759247,\n",
       "   -0.012373700737953186,\n",
       "   0.028532154858112335,\n",
       "   -0.02157534658908844,\n",
       "   0.058706097304821014,\n",
       "   -0.0011023388942703605,\n",
       "   -0.03223463520407677,\n",
       "   -0.0021351976320147514,\n",
       "   -0.009668955579400063,\n",
       "   0.011990166269242764,\n",
       "   0.0037688894663006067,\n",
       "   -0.046903345733881,\n",
       "   -0.059894151985645294,\n",
       "   0.032614026218652725,\n",
       "   0.0188574381172657,\n",
       "   -0.025780173018574715,\n",
       "   0.03106537275016308,\n",
       "   -0.027463585138320923,\n",
       "   -0.07100096344947815,\n",
       "   -0.044756077229976654,\n",
       "   0.00316402455791831,\n",
       "   0.048127174377441406,\n",
       "   0.02152898907661438,\n",
       "   0.029470665380358696,\n",
       "   -0.050259556621313095,\n",
       "   0.0034206253476440907,\n",
       "   0.08712176978588104,\n",
       "   0.04194977506995201,\n",
       "   0.0163328368216753,\n",
       "   0.029403364285826683,\n",
       "   0.01621357910335064,\n",
       "   0.017459522932767868,\n",
       "   0.04854337498545647,\n",
       "   -0.02016429416835308,\n",
       "   -0.012042165733873844,\n",
       "   -0.03742784261703491,\n",
       "   -0.06289093941450119,\n",
       "   0.013160252012312412,\n",
       "   -0.02148277871310711,\n",
       "   -0.07420433312654495,\n",
       "   0.01847040466964245,\n",
       "   0.007038454990833998,\n",
       "   0.026157880201935768,\n",
       "   0.02157934568822384,\n",
       "   0.005022956989705563,\n",
       "   0.006169848144054413,\n",
       "   -0.027546770870685577,\n",
       "   -0.02772989496588707,\n",
       "   -0.030798165127635002,\n",
       "   0.007485599722713232,\n",
       "   0.004549893084913492,\n",
       "   -0.03934778645634651,\n",
       "   0.003829428693279624,\n",
       "   -0.06682974845170975,\n",
       "   0.09483253955841064,\n",
       "   -0.019243357703089714,\n",
       "   -0.02363416738808155,\n",
       "   0.07320955395698547,\n",
       "   -0.004912575241178274,\n",
       "   -0.0236472450196743,\n",
       "   0.01951821707189083,\n",
       "   0.007546951994299889,\n",
       "   -0.03351147845387459,\n",
       "   -0.0583110935986042,\n",
       "   -0.05968226119875908,\n",
       "   -0.03950316458940506,\n",
       "   -0.04056224226951599,\n",
       "   0.03522659093141556,\n",
       "   0.037774648517370224,\n",
       "   -0.04561399668455124,\n",
       "   0.04491868242621422,\n",
       "   -0.038956232368946075,\n",
       "   0.10182154178619385,\n",
       "   0.0717722624540329,\n",
       "   0.012552586384117603,\n",
       "   0.040080536156892776,\n",
       "   0.05362129583954811,\n",
       "   -0.075053371489048,\n",
       "   0.012994353659451008,\n",
       "   -0.0010087488917633891,\n",
       "   -0.005305582657456398,\n",
       "   0.030814211815595627,\n",
       "   0.03366364166140556,\n",
       "   0.02443491481244564,\n",
       "   -0.033230073750019073,\n",
       "   0.015902496874332428,\n",
       "   0.034025706350803375,\n",
       "   0.008469928987324238,\n",
       "   -0.011134021915495396,\n",
       "   -0.009092558175325394,\n",
       "   -0.029051940888166428,\n",
       "   -0.07648545503616333,\n",
       "   -0.021282415837049484,\n",
       "   0.008889323100447655,\n",
       "   0.015132411383092403,\n",
       "   -0.06245705485343933,\n",
       "   0.01737183704972267,\n",
       "   -0.002148170955479145,\n",
       "   -0.020554082468152046,\n",
       "   -0.01281700748950243,\n",
       "   -0.00031983305234462023,\n",
       "   0.047908931970596313,\n",
       "   0.06415456533432007,\n",
       "   0.06617991626262665,\n",
       "   0.01487091463059187,\n",
       "   0.04610130935907364,\n",
       "   -0.061398427933454514,\n",
       "   0.027360673993825912,\n",
       "   0.012589449994266033,\n",
       "   0.028469765558838844,\n",
       "   0.01652582176029682,\n",
       "   0.0041176145896315575,\n",
       "   -0.020742099732160568,\n",
       "   -0.03075604885816574,\n",
       "   0.00801562424749136,\n",
       "   -0.027454350143671036,\n",
       "   -0.07473703473806381,\n",
       "   -0.007012020796537399,\n",
       "   0.00482841907069087,\n",
       "   -0.005106418393552303,\n",
       "   -0.044951993972063065,\n",
       "   0.02246176078915596,\n",
       "   0.024053119122982025,\n",
       "   -0.010425658896565437,\n",
       "   -0.022262688726186752,\n",
       "   0.014333752915263176,\n",
       "   0.011842804960906506,\n",
       "   0.06074633076786995,\n",
       "   -0.03950141370296478,\n",
       "   -0.03327488899230957,\n",
       "   -0.016062049195170403,\n",
       "   -0.05981537699699402,\n",
       "   -0.06341197341680527,\n",
       "   0.003946199081838131,\n",
       "   -0.0005174159305170178,\n",
       "   -0.023430580273270607,\n",
       "   0.07434485107660294,\n",
       "   -0.0405743233859539,\n",
       "   -0.03541530296206474,\n",
       "   0.033913929015398026,\n",
       "   -0.039292674511671066,\n",
       "   0.00858366396278143,\n",
       "   0.03309810161590576,\n",
       "   -0.042373523116111755,\n",
       "   -0.05760408937931061,\n",
       "   0.016048455610871315,\n",
       "   -0.03506896272301674,\n",
       "   -0.02105814404785633,\n",
       "   -0.07478770613670349,\n",
       "   0.012509939260780811,\n",
       "   -0.05710703879594803,\n",
       "   0.02293444238603115,\n",
       "   0.05402926355600357,\n",
       "   -0.034008853137493134,\n",
       "   0.012282056733965874,\n",
       "   0.02226600982248783,\n",
       "   -0.007455295883119106,\n",
       "   -0.0855378657579422,\n",
       "   -0.0072040073573589325,\n",
       "   -0.005493613891303539,\n",
       "   0.022403659299016,\n",
       "   0.0022279967088252306,\n",
       "   0.0028145445976406336,\n",
       "   -0.02490001544356346,\n",
       "   -0.010373348370194435,\n",
       "   -0.020914951339364052,\n",
       "   0.08217618614435196,\n",
       "   -0.027486875653266907,\n",
       "   0.008052511140704155,\n",
       "   0.01740093156695366,\n",
       "   -0.02494681067764759,\n",
       "   0.007722598500549793,\n",
       "   0.07959314435720444,\n",
       "   0.06379187852144241,\n",
       "   0.02273489162325859,\n",
       "   0.03110000491142273,\n",
       "   0.03107139654457569,\n",
       "   0.015196329914033413,\n",
       "   -0.029818203300237656,\n",
       "   0.0019935057498514652,\n",
       "   -0.045867323875427246,\n",
       "   0.0233464278280735,\n",
       "   -0.019245369359850883,\n",
       "   0.04035252705216408,\n",
       "   0.05909937620162964,\n",
       "   0.030743570998311043,\n",
       "   -0.00615920452401042,\n",
       "   0.014493105001747608,\n",
       "   0.007810292765498161,\n",
       "   -0.013232856057584286,\n",
       "   0.012661140412092209,\n",
       "   0.025789674371480942,\n",
       "   0.008682318031787872,\n",
       "   0.021590543910861015,\n",
       "   0.006903058383613825,\n",
       "   -0.0663052350282669,\n",
       "   -0.008881556801497936,\n",
       "   -0.025588352233171463,\n",
       "   0.005386662669479847,\n",
       "   0.022934749722480774,\n",
       "   0.04134673252701759,\n",
       "   -0.05415232852101326,\n",
       "   -0.04998189955949783,\n",
       "   0.05781607702374458,\n",
       "   -0.028492696583271027,\n",
       "   -0.006507219281047583,\n",
       "   -0.010496115311980247,\n",
       "   -0.00946157705038786,\n",
       "   0.01348624937236309,\n",
       "   0.02549361251294613,\n",
       "   0.018011609092354774,\n",
       "   0.024951795116066933,\n",
       "   0.09432821720838547,\n",
       "   -0.014309200458228588,\n",
       "   0.006709272973239422,\n",
       "   -0.04519767314195633,\n",
       "   -0.03910389542579651,\n",
       "   0.026326915249228477,\n",
       "   0.013896042481064796,\n",
       "   0.016017410904169083,\n",
       "   -0.06603584438562393,\n",
       "   0.05122707411646843,\n",
       "   -0.05831635370850563,\n",
       "   0.015651587396860123,\n",
       "   0.007569214794784784,\n",
       "   0.022369004786014557,\n",
       "   -0.04819616675376892,\n",
       "   0.051879122853279114,\n",
       "   0.02450340799987316,\n",
       "   0.019622376188635826,\n",
       "   -0.025984879583120346,\n",
       "   -0.012698535807430744,\n",
       "   0.019723044708371162,\n",
       "   -0.008813455700874329,\n",
       "   0.08611218631267548,\n",
       "   -0.006470759864896536,\n",
       "   -0.050553545355796814,\n",
       "   -0.01632142998278141,\n",
       "   0.02625878155231476,\n",
       "   -0.030754128471016884,\n",
       "   0.009478094056248665,\n",
       "   -0.030411308631300926,\n",
       "   -0.017659563571214676,\n",
       "   0.039206188172101974,\n",
       "   -0.002969881519675255,\n",
       "   -0.04655345156788826,\n",
       "   -0.021891064941883087,\n",
       "   -0.010020353831350803,\n",
       "   0.03220542520284653,\n",
       "   0.06007145717740059,\n",
       "   0.025589121505618095,\n",
       "   -0.029451938346028328,\n",
       "   0.00012142585183028132,\n",
       "   -0.03278828412294388,\n",
       "   0.06972357630729675,\n",
       "   0.022558530792593956,\n",
       "   -0.03105008974671364,\n",
       "   0.003891370026394725,\n",
       "   0.010921354405581951,\n",
       "   -0.06305620819330215,\n",
       "   0.032183095812797546,\n",
       "   -0.06768068671226501,\n",
       "   0.0039788768626749516,\n",
       "   -0.008170993067324162,\n",
       "   0.004536660388112068,\n",
       "   0.02642206661403179,\n",
       "   0.021129339933395386,\n",
       "   -0.03421559929847717,\n",
       "   0.0068422225303947926,\n",
       "   -0.04225100204348564,\n",
       "   0.011921391822397709,\n",
       "   -0.04254594072699547,\n",
       "   0.01577458530664444,\n",
       "   -0.00576772028580308,\n",
       "   0.01475873775780201,\n",
       "   -0.002097534714266658,\n",
       "   0.013722922652959824,\n",
       "   -0.06963644921779633,\n",
       "   -0.002380675170570612,\n",
       "   0.023517927154898643,\n",
       "   0.009601769037544727,\n",
       "   -0.053782347589731216,\n",
       "   -2.8703068437607726e-06,\n",
       "   -0.011883189901709557,\n",
       "   0.007324909791350365,\n",
       "   -0.02728385478258133,\n",
       "   0.02292020618915558,\n",
       "   0.00011041568359360099,\n",
       "   0.001925226766616106,\n",
       "   -0.009140054695308208,\n",
       "   0.01709870807826519,\n",
       "   0.03304668143391609,\n",
       "   0.00997124146670103,\n",
       "   0.03166552260518074,\n",
       "   0.016954878345131874,\n",
       "   -0.04161811247467995,\n",
       "   -0.03601614385843277,\n",
       "   -0.010423561558127403,\n",
       "   0.0018728056456893682,\n",
       "   -0.012537569738924503,\n",
       "   0.036399245262145996,\n",
       "   -0.033437248319387436,\n",
       "   0.035153381526470184,\n",
       "   0.03695778548717499,\n",
       "   -0.06700451672077179,\n",
       "   0.0045264651998877525,\n",
       "   -0.004721645265817642,\n",
       "   0.04410368576645851,\n",
       "   0.02256527543067932,\n",
       "   0.008554080501198769,\n",
       "   0.053234636783599854,\n",
       "   0.08194764703512192,\n",
       "   -0.02117811143398285,\n",
       "   -0.03001965768635273,\n",
       "   -0.018510475754737854,\n",
       "   0.06653526425361633,\n",
       "   0.023168981075286865,\n",
       "   0.0012736724456772208,\n",
       "   0.04641377925872803,\n",
       "   -0.036795347929000854,\n",
       "   -0.03334435448050499,\n",
       "   -0.017888393253087997,\n",
       "   -0.027312444522976875,\n",
       "   -0.024499794468283653,\n",
       "   -0.05348522588610649,\n",
       "   -0.06328777968883514,\n",
       "   -0.024869725108146667,\n",
       "   0.00014537587412633002,\n",
       "   0.03584069386124611,\n",
       "   -0.008108855225145817,\n",
       "   -0.021907171234488487,\n",
       "   -0.020949959754943848,\n",
       "   0.01625722087919712,\n",
       "   -0.05844442546367645,\n",
       "   -0.078077532351017,\n",
       "   0.04231122136116028,\n",
       "   0.013525279238820076,\n",
       "   0.007456762716174126,\n",
       "   -0.008649510331451893,\n",
       "   -0.034846432507038116,\n",
       "   0.0449516698718071,\n",
       "   -0.02354438416659832,\n",
       "   0.045856181532144547,\n",
       "   -0.049024976789951324,\n",
       "   0.010188846848905087,\n",
       "   0.042488887906074524,\n",
       "   0.06091737374663353,\n",
       "   0.005388031248003244,\n",
       "   0.0003765930305235088,\n",
       "   0.009041395038366318,\n",
       "   -0.04288573935627937,\n",
       "   -0.022456297650933266,\n",
       "   0.0021813104394823313,\n",
       "   -0.010737502947449684,\n",
       "   -0.011795437894761562,\n",
       "   0.02775450423359871,\n",
       "   0.01617075316607952,\n",
       "   -0.04228532686829567,\n",
       "   -0.034411195665597916,\n",
       "   -0.0002553988597355783,\n",
       "   0.060670219361782074,\n",
       "   -0.01781242899596691,\n",
       "   0.027447238564491272,\n",
       "   0.0286584310233593,\n",
       "   0.09697899967432022,\n",
       "   -0.014942917972803116,\n",
       "   0.011604871600866318,\n",
       "   -0.07323165237903595,\n",
       "   -0.00675505306571722,\n",
       "   0.022105682641267776,\n",
       "   0.032945774495601654,\n",
       "   0.02229938842356205,\n",
       "   0.005388375837355852,\n",
       "   0.0458260141313076,\n",
       "   0.01699809357523918,\n",
       "   0.02468818426132202,\n",
       "   0.009281419217586517,\n",
       "   0.034402597695589066,\n",
       "   -0.017134005203843117,\n",
       "   -0.04171315208077431,\n",
       "   0.013885635882616043,\n",
       "   0.006040849722921848,\n",
       "   -0.017118189483880997,\n",
       "   -0.03925001248717308,\n",
       "   0.0038914987817406654,\n",
       "   0.029688360169529915,\n",
       "   0.01577494479715824,\n",
       "   -0.04947150498628616,\n",
       "   0.014758274890482426,\n",
       "   0.04155479371547699,\n",
       "   0.019186032935976982,\n",
       "   0.02964620478451252,\n",
       "   -0.030701687559485435,\n",
       "   0.01857876591384411,\n",
       "   -0.0357779823243618,\n",
       "   0.05005030333995819,\n",
       "   0.027544058859348297,\n",
       "   0.006203796248883009,\n",
       "   0.02898404933512211,\n",
       "   0.02988080307841301,\n",
       "   0.013980080373585224,\n",
       "   0.023439358919858932,\n",
       "   0.013157874345779419,\n",
       "   -0.008159448392689228,\n",
       "   -0.0072540463879704475,\n",
       "   0.016199136152863503,\n",
       "   -0.002830095821991563,\n",
       "   -0.05156180262565613,\n",
       "   0.03738810494542122,\n",
       "   -0.051572054624557495,\n",
       "   0.024182574823498726,\n",
       "   -0.006123336497694254,\n",
       "   0.02438592165708542,\n",
       "   -0.0031059086322784424,\n",
       "   -0.02656872756779194,\n",
       "   0.004222210496664047,\n",
       "   -0.04650946706533432,\n",
       "   -0.05490266531705856,\n",
       "   -0.0429086908698082,\n",
       "   0.020931947976350784,\n",
       "   -0.07044320553541183,\n",
       "   -0.005971952341496944,\n",
       "   0.021529322490096092,\n",
       "   0.018737811595201492,\n",
       "   -0.0415697880089283,\n",
       "   0.046589210629463196,\n",
       "   -0.018252454698085785,\n",
       "   -0.05902706831693649,\n",
       "   -0.013115410692989826,\n",
       "   0.010622380301356316,\n",
       "   -0.05827226862311363,\n",
       "   0.03759695962071419,\n",
       "   0.1015770360827446,\n",
       "   0.00868180301040411,\n",
       "   -0.026900336146354675,\n",
       "   0.014947604387998581,\n",
       "   -0.023837076500058174,\n",
       "   0.031537722796201706,\n",
       "   0.0034988820552825928,\n",
       "   0.01369345374405384,\n",
       "   -0.016174258664250374,\n",
       "   -0.05662671849131584,\n",
       "   -0.010555243119597435,\n",
       "   -0.00022730507771484554,\n",
       "   -0.043437547981739044,\n",
       "   0.020670248195528984,\n",
       "   -0.02072836644947529,\n",
       "   -0.01239344198256731,\n",
       "   0.025043435394763947,\n",
       "   0.00568856205791235,\n",
       "   0.011880452744662762,\n",
       "   -0.012096858583390713,\n",
       "   0.030228259041905403,\n",
       "   0.020671408623456955,\n",
       "   0.015978438779711723,\n",
       "   -0.015964355319738388,\n",
       "   0.05241924524307251,\n",
       "   -0.007749857380986214,\n",
       "   0.005350576713681221,\n",
       "   0.04921356588602066,\n",
       "   0.019245725125074387,\n",
       "   -0.02293884940445423,\n",
       "   -0.004561913665384054,\n",
       "   0.04512083902955055,\n",
       "   0.048306018114089966,\n",
       "   0.014319351874291897,\n",
       "   -0.01781824603676796,\n",
       "   0.025102339684963226,\n",
       "   0.055609215050935745,\n",
       "   -0.016458407044410706,\n",
       "   -0.022247271612286568,\n",
       "   -0.04104837030172348,\n",
       "   -0.009256727993488312,\n",
       "   -0.00902786199003458,\n",
       "   0.0451841875910759,\n",
       "   -0.047037459909915924,\n",
       "   -0.07162036746740341,\n",
       "   0.052641719579696655,\n",
       "   -0.023977646604180336,\n",
       "   0.053403012454509735,\n",
       "   -0.07361865788698196,\n",
       "   0.008400829508900642,\n",
       "   0.039961107075214386,\n",
       "   0.001408151350915432,\n",
       "   -0.07272498309612274,\n",
       "   -0.03689711540937424,\n",
       "   0.06981834024190903,\n",
       "   -0.02732606790959835,\n",
       "   0.03451486676931381,\n",
       "   0.028562121093273163,\n",
       "   0.008150309324264526,\n",
       "   -0.045974839478731155,\n",
       "   -0.00751065369695425,\n",
       "   -0.08915817737579346,\n",
       "   -0.032714638859033585,\n",
       "   0.01944207400083542,\n",
       "   -0.025532620027661324,\n",
       "   0.08174353092908859,\n",
       "   -0.00952043104916811,\n",
       "   0.008092252537608147,\n",
       "   0.04465537145733833,\n",
       "   0.0485716387629509,\n",
       "   0.021239059045910835,\n",
       "   -0.03389241546392441,\n",
       "   -0.026272743940353394,\n",
       "   0.08767997473478317,\n",
       "   -0.013138203881680965,\n",
       "   -0.021939149126410484,\n",
       "   -0.06477939337491989,\n",
       "   0.004536798223853111,\n",
       "   -0.02626233547925949,\n",
       "   0.03340130299329758,\n",
       "   0.024247663095593452,\n",
       "   -0.032649606466293335,\n",
       "   0.04592670127749443,\n",
       "   0.03849722072482109,\n",
       "   -0.09683689475059509,\n",
       "   0.039503615349531174,\n",
       "   0.017853127792477608,\n",
       "   -0.012062883004546165,\n",
       "   0.028553009033203125,\n",
       "   -0.05404796823859215,\n",
       "   -0.0022501470521092415,\n",
       "   0.013996126130223274,\n",
       "   -0.012307117693126202,\n",
       "   -0.0368519052863121,\n",
       "   -0.0378694050014019,\n",
       "   -0.02782907709479332,\n",
       "   0.00720450934022665,\n",
       "   -0.03900555521249771,\n",
       "   -0.05406516417860985,\n",
       "   -0.007296908646821976,\n",
       "   0.04562845826148987,\n",
       "   -0.02344675548374653,\n",
       "   0.02325228787958622,\n",
       "   -0.02680305764079094,\n",
       "   0.03978268802165985,\n",
       "   0.018399415537714958,\n",
       "   0.018008045852184296,\n",
       "   0.020810792222619057,\n",
       "   0.03975405544042587,\n",
       "   0.07437071949243546,\n",
       "   0.0003919006558135152,\n",
       "   -0.001666890922933817,\n",
       "   -0.01583019830286503,\n",
       "   -0.020880021154880524,\n",
       "   -0.0353214405477047,\n",
       "   -0.022103911265730858,\n",
       "   0.01288002822548151,\n",
       "   -0.002874186495319009]}]"
      ]
     },
     "execution_count": 117,
     "metadata": {},
     "output_type": "execute_result"
    }
   ],
   "source": [
    "[doc for doc in documents if doc[\"id\"] == \"ee58a693\"]"
   ]
  },
  {
   "cell_type": "markdown",
   "metadata": {},
   "source": [
    "## Q6. Hit-rate for Elasticsearch"
   ]
  },
  {
   "cell_type": "markdown",
   "metadata": {},
   "source": [
    "We using the same dataset with the same embedding model.\n",
    "\n",
    "I expect almost the same result.\n",
    "The difference could be explained by the NN/ANN algorithm used inside the ES.\n",
    "\n",
    "Since I used the fair brute-force, the ES hit rate can't be better than custom solution,\n",
    "but it could be faster on large indexes."
   ]
  },
  {
   "cell_type": "code",
   "execution_count": 122,
   "metadata": {},
   "outputs": [],
   "source": [
    "def compute_hit_rate(ground_truth: list[dict],\n",
    "                     search_engine: VectorSearchEngine,\n",
    "                     embedding_model: SentenceTransformer,\n",
    "                     num_results: int) -> float:\n",
    "    questions = (doc[\"question\"] for doc in ground_truth)\n",
    "    y_pred = (\n",
    "        search_engine.search(\n",
    "            query_vector=embedding_model.encode(q), \n",
    "            num_results=num_results\n",
    "        )\n",
    "        for q in questions\n",
    "    )\n",
    "    y_true = (doc[\"document\"] for doc in ground_truth)\n",
    "    hit_generator = tqdm(zip(y_pred, y_true), total=len(ground_truth))\n",
    "    hits = [\n",
    "        1.0 if correct in pred else 0.0\n",
    "        for (pred, correct) in hit_generator\n",
    "    ]\n",
    "    return np.mean(hits)"
   ]
  },
  {
   "cell_type": "code",
   "execution_count": 123,
   "metadata": {},
   "outputs": [
    {
     "data": {
      "application/vnd.jupyter.widget-view+json": {
       "model_id": "0c95e9a8c38846eebc0d7e43335a4e65",
       "version_major": 2,
       "version_minor": 0
      },
      "text/plain": [
       "  0%|          | 0/1830 [00:00<?, ?it/s]"
      ]
     },
     "metadata": {},
     "output_type": "display_data"
    },
    {
     "data": {
      "text/plain": [
       "0.9218579234972678"
      ]
     },
     "execution_count": 123,
     "metadata": {},
     "output_type": "execute_result"
    }
   ],
   "source": [
    "hit_rate = compute_hit_rate(\n",
    "    ground_truth=ground_truth,\n",
    "    search_engine=es_search_engine,\n",
    "    embedding_model=embedding_model,\n",
    "    num_results=5\n",
    ")\n",
    "hit_rate"
   ]
  }
 ],
 "metadata": {
  "kernelspec": {
   "display_name": "zoomcamp",
   "language": "python",
   "name": "python3"
  },
  "language_info": {
   "codemirror_mode": {
    "name": "ipython",
    "version": 3
   },
   "file_extension": ".py",
   "mimetype": "text/x-python",
   "name": "python",
   "nbconvert_exporter": "python",
   "pygments_lexer": "ipython3",
   "version": "3.12.3"
  }
 },
 "nbformat": 4,
 "nbformat_minor": 2
}
