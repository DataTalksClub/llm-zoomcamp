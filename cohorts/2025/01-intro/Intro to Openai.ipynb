{
 "cells": [
  {
   "cell_type": "code",
   "execution_count": 1,
   "id": "edac4f7a-85bc-4c3f-933a-407ed1755f6d",
   "metadata": {},
   "outputs": [],
   "source": [
    "import openai"
   ]
  },
  {
   "cell_type": "code",
   "execution_count": 2,
   "id": "3b1b04c4-3b0b-4d4e-b7a1-2f06ff740154",
   "metadata": {},
   "outputs": [],
   "source": [
    "from openai import OpenAI"
   ]
  },
  {
   "cell_type": "code",
   "execution_count": 4,
   "id": "0d7edd77-10e2-4c34-b38c-7de3889cdf34",
   "metadata": {},
   "outputs": [],
   "source": [
    "import os\n",
    "\n",
    "key = os.environ.get(\"OPENAI_API_KEY\")"
   ]
  },
  {
   "cell_type": "code",
   "execution_count": 7,
   "id": "902ad732-97af-4af0-8f0c-fa2ba7d55776",
   "metadata": {},
   "outputs": [
    {
     "name": "stdout",
     "output_type": "stream",
     "text": [
      "OPEN_AI_KEY loaded successful\n",
      "Keys start with: sk-p ... \n"
     ]
    }
   ],
   "source": [
    "if key:\n",
    "    print(\"OPEN_AI_KEY loaded successful\")\n",
    "    print(f\"Keys start with: {key[:4]} ... \")\n",
    "else:\n",
    "    print(\"Error: OPENAI_API_KEY not found\")\n",
    "    print(\"Please make sure you exported the key in the same terminal before launch\")"
   ]
  },
  {
   "cell_type": "code",
   "execution_count": 10,
   "id": "eb132ee1-6e5e-4141-9cf1-4200e21118bd",
   "metadata": {},
   "outputs": [],
   "source": [
    "client = OpenAI(api_key=key)"
   ]
  },
  {
   "cell_type": "code",
   "execution_count": 11,
   "id": "b6a862c6-49e0-45a4-8ad5-0ee02cd8f278",
   "metadata": {},
   "outputs": [],
   "source": [
    "response = client.chat.completions.create(\n",
    "    model = \"gpt-4.1-nano\",\n",
    "    messages=[{\"role\":\"user\", \"content\": \"is it too late to join the course?\"}]\n",
    ")\n",
    "        "
   ]
  },
  {
   "cell_type": "code",
   "execution_count": 12,
   "id": "0e1b4070-f1be-4342-ac76-802045a9e6fd",
   "metadata": {},
   "outputs": [
    {
     "data": {
      "text/plain": [
       "ChatCompletion(id='chatcmpl-BgrlXTxvTr3YGMck8RKVm9HMLFh6I', choices=[Choice(finish_reason='stop', index=0, logprobs=None, message=ChatCompletionMessage(content=\"It depends on the specific course you're interested in. Some courses have rolling admissions or open enrollment, while others have set deadlines. I recommend checking the course provider's website or contacting their support team directly to get the most accurate and up-to-date information. If you'd like, I can help you find the contact details or suggest how to inquire efficiently!\", refusal=None, role='assistant', annotations=[], audio=None, function_call=None, tool_calls=None))], created=1749556151, model='gpt-4.1-nano-2025-04-14', object='chat.completion', service_tier='default', system_fingerprint='fp_f12167b370', usage=CompletionUsage(completion_tokens=69, prompt_tokens=16, total_tokens=85, completion_tokens_details=CompletionTokensDetails(accepted_prediction_tokens=0, audio_tokens=0, reasoning_tokens=0, rejected_prediction_tokens=0), prompt_tokens_details=PromptTokensDetails(audio_tokens=0, cached_tokens=0)))"
      ]
     },
     "execution_count": 12,
     "metadata": {},
     "output_type": "execute_result"
    }
   ],
   "source": [
    "response"
   ]
  },
  {
   "cell_type": "code",
   "execution_count": 15,
   "id": "d4c1843c-27ed-4f89-828b-d563c03d1fd7",
   "metadata": {},
   "outputs": [
    {
     "data": {
      "text/plain": [
       "\"It depends on the specific course you're interested in. Some courses have rolling admissions or open enrollment, while others have set deadlines. I recommend checking the course provider's website or contacting their support team directly to get the most accurate and up-to-date information. If you'd like, I can help you find the contact details or suggest how to inquire efficiently!\""
      ]
     },
     "execution_count": 15,
     "metadata": {},
     "output_type": "execute_result"
    }
   ],
   "source": [
    "response.choices[0].message.content"
   ]
  },
  {
   "cell_type": "code",
   "execution_count": null,
   "id": "bfb4f779-f986-42a7-9eed-81f1f8179b11",
   "metadata": {},
   "outputs": [],
   "source": []
  }
 ],
 "metadata": {
  "kernelspec": {
   "display_name": "Python 3 (ipykernel)",
   "language": "python",
   "name": "python3"
  },
  "language_info": {
   "codemirror_mode": {
    "name": "ipython",
    "version": 3
   },
   "file_extension": ".py",
   "mimetype": "text/x-python",
   "name": "python",
   "nbconvert_exporter": "python",
   "pygments_lexer": "ipython3",
   "version": "3.12.1"
  }
 },
 "nbformat": 4,
 "nbformat_minor": 5
}
