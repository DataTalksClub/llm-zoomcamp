{
 "cells": [
  {
   "cell_type": "code",
   "execution_count": 1,
   "metadata": {},
   "outputs": [],
   "source": [
    "import os\n",
    "from dotenv import load_dotenv\n",
    "import openai\n",
    "from openai import OpenAI"
   ]
  },
  {
   "cell_type": "code",
   "execution_count": 2,
   "metadata": {},
   "outputs": [
    {
     "data": {
      "text/plain": [
       "True"
      ]
     },
     "execution_count": 2,
     "metadata": {},
     "output_type": "execute_result"
    }
   ],
   "source": [
    "load_dotenv()"
   ]
  },
  {
   "cell_type": "code",
   "execution_count": 3,
   "metadata": {},
   "outputs": [],
   "source": [
    "client = OpenAI(api_key=os.getenv('OPEN_API_KEY'))"
   ]
  },
  {
   "cell_type": "code",
   "execution_count": 4,
   "metadata": {},
   "outputs": [
    {
     "data": {
      "text/plain": [
       "\"It's never too late to get lifeguard certification! Many organizations, such as the Red Cross, YMCA, and other local entities, offer lifeguard certification courses throughout the year. These courses typically include training in water rescue skills, CPR, AED usage, and first aid.\\n\\nHere are some steps you can follow to get started:\\n\\n1. **Find a Course:** Check with local pools, community centers, the Red Cross, or the YMCA for upcoming lifeguard certification courses. Websites for these organizations often have searchable course databases.\\n\\n2. **Check Prerequisites:** Ensure you meet any prerequisites for the course. These can include being a certain age (usually 15 or 16 years old) and passing a swimming skills test.\\n\\n3. **Register:** Sign up for a course that fits your schedule. Be aware that some courses may fill up quickly, so early registration is a good idea.\\n\\n4. **Complete the Training:** Attend all sessions and successfully complete both the written and practical exams. These courses usually cover topics like water rescues, surveillance techniques, and emergency response.\\n\\n5. **Get Certified:** Upon successful completion of the course, you'll receive your certification, which may need to be renewed periodically (typically every two years).\\n\\n6. **Stay Prepared:** Keep your skills up-to-date through practice and any required re-certification courses.\\n\\nWhether you're looking to work as a lifeguard at a pool, beach, or water park, or even just want to have these important skills for personal knowledge, getting certified can be a rewarding and valuable experience.\""
      ]
     },
     "execution_count": 4,
     "metadata": {},
     "output_type": "execute_result"
    },
    {
     "name": "stderr",
     "output_type": "stream",
     "text": [
      "Bad pipe message: %s [b'ame-127-0-0-1-8888=2|1:0|10:1718823441|23:username-127-0-0-1-8888|204:eyJ1c2VybmFtZSI6ICIwNjNmY2M5ZWU1Y2Q0ZGM4ODc']\n",
      "Bad pipe message: %s [b'WIwYzE3MDhkY2U2YyIsICJuYW1lIjogIkFub255bW91cyBDYWxsaXJyaG9lIiwgImRpc3BsYXlfbmFtZSI6ICJBbm9ueW1vdXMgQ2FsbGlycmhvZSIsICJpbm']\n",
      "Bad pipe message: %s [b'aWFscyI6ICJBQyIsICJjb2xvciI6IG51bGx9|122a86baf22604ac21c8671e98ccdf2063324aecb446e710f9c1db0675b18a8d; _xsr']\n",
      "Bad pipe message: %s [b'2|b7b3571e|5a079bad0c85754de013b9e7e08659e2|1718488419\\r\\nConnection: keep-alive\\r\\nUpgrade-Insecure-Requ', b'ts: 1\\r\\nSec-Fetch-Mode: navigate\\r\\nAccept: text/html,application/xhtml+xml,application/xml;q=0.9,*/*;q', b'.8\\r\\nUser-Agent: Mozilla/5.0 (Macintosh; Intel Mac OS X 10_15']\n"
     ]
    }
   ],
   "source": [
    "response = client.chat.completions.create(\n",
    " model = 'gpt-4o',\n",
    " messages = [{\"role\": \"user\", \"content\": \"is it too late to get life guard certification?\"}]\n",
    ")\n",
    "\n",
    "response.choices[0].message.content"
   ]
  },
  {
   "cell_type": "code",
   "execution_count": null,
   "metadata": {},
   "outputs": [],
   "source": []
  }
 ],
 "metadata": {
  "kernelspec": {
   "display_name": "llm",
   "language": "python",
   "name": "python3"
  },
  "language_info": {
   "codemirror_mode": {
    "name": "ipython",
    "version": 3
   },
   "file_extension": ".py",
   "mimetype": "text/x-python",
   "name": "python",
   "nbconvert_exporter": "python",
   "pygments_lexer": "ipython3",
   "version": "3.10.13"
  }
 },
 "nbformat": 4,
 "nbformat_minor": 2
}
