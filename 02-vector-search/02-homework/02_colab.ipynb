{
 "cells": [
  {
   "cell_type": "markdown",
   "metadata": {
    "colab_type": "text",
    "id": "view-in-github"
   },
   "source": [
    "<a href=\"https://colab.research.google.com/github/thant-san/llm-zoomcamp/blob/main/02_homework(LLM).ipynb\" target=\"_parent\"><img src=\"https://colab.research.google.com/assets/colab-badge.svg\" alt=\"Open In Colab\"/></a>"
   ]
  },
  {
   "cell_type": "code",
   "execution_count": null,
   "metadata": {
    "colab": {
     "base_uri": "https://localhost:8080/"
    },
    "id": "WlArr8xZ0s_-",
    "outputId": "5349db22-6e0d-4c69-9d8c-bcad044b67e9"
   },
   "outputs": [],
   "source": [
    "pip install fastembed"
   ]
  },
  {
   "cell_type": "code",
   "execution_count": null,
   "metadata": {
    "id": "YbT7J_W10z8X"
   },
   "outputs": [],
   "source": [
    "from fastembed import TextEmbedding\n",
    "import numpy as np"
   ]
  },
  {
   "cell_type": "code",
   "execution_count": null,
   "metadata": {
    "colab": {
     "base_uri": "https://localhost:8080/"
    },
    "id": "sTW7EanK08rp",
    "outputId": "37587e43-511a-4ff2-a7bf-73310f6d8b32"
   },
   "outputs": [],
   "source": [
    "query = \"I just discovered the course. Can I join now?\"\n",
    "model_name = \"jinaai/jina-embeddings-v2-small-en\"\n",
    "embedder = TextEmbedding(model_name=model_name)\n",
    "query_embedding = list(embedder.embed([query]))[0]\n",
    "\n",
    "print(len(query_embedding))\n",
    "print(\"Q1 - Min value in query vector:\", np.min(query_embedding))"
   ]
  },
  {
   "cell_type": "code",
   "execution_count": null,
   "metadata": {
    "colab": {
     "base_uri": "https://localhost:8080/"
    },
    "id": "JdWgsz5A1Re-",
    "outputId": "35624983-e740-43a2-c214-6aa9556d064c"
   },
   "outputs": [],
   "source": [
    "q=query_embedding\n",
    "np.linalg.norm(q)"
   ]
  },
  {
   "cell_type": "code",
   "execution_count": null,
   "metadata": {
    "colab": {
     "base_uri": "https://localhost:8080/"
    },
    "id": "yUsoao931tPV",
    "outputId": "565bb111-930d-4d07-c23e-a9cbfa6d7749"
   },
   "outputs": [],
   "source": [
    "q.dot(q)"
   ]
  },
  {
   "cell_type": "code",
   "execution_count": null,
   "metadata": {
    "colab": {
     "base_uri": "https://localhost:8080/"
    },
    "id": "Kp1g4TuX2kiC",
    "outputId": "52d637f3-bc41-43e3-8f6b-f0568d709536"
   },
   "outputs": [],
   "source": [
    "doc = 'Can I still join the course after the start date?'\n",
    "\n",
    "doc_embedder = TextEmbedding(model_name=model_name)\n",
    "doc_embedding = list(embedder.embed([doc]))[0]\n",
    "cos_sim = np.dot(query_embedding, doc_embedding)\n",
    "print(\"Q2 - Cosine similarity:\", round(cos_sim, 2))"
   ]
  },
  {
   "cell_type": "code",
   "execution_count": null,
   "metadata": {
    "id": "HtTaqKy020qA"
   },
   "outputs": [],
   "source": [
    "documents = [{'text': \"Yes, even if you don't register, you're still eligible to submit the homeworks.\\nBe aware, however, that there will be deadlines for turning in the final projects. So don't leave everything for the last minute.\",\n",
    "  'section': 'General course-related questions',\n",
    "  'question': 'Course - Can I still join the course after the start date?',\n",
    "  'course': 'data-engineering-zoomcamp'},\n",
    " {'text': 'Yes, we will keep all the materials after the course finishes, so you can follow the course at your own pace after it finishes.\\nYou can also continue looking at the homeworks and continue preparing for the next cohort. I guess you can also start working on your final capstone project.',\n",
    "  'section': 'General course-related questions',\n",
    "  'question': 'Course - Can I follow the course after it finishes?',\n",
    "  'course': 'data-engineering-zoomcamp'},\n",
    " {'text': \"The purpose of this document is to capture frequently asked technical questions\\nThe exact day and hour of the course will be 15th Jan 2024 at 17h00. The course will start with the first  “Office Hours'' live.1\\nSubscribe to course public Google Calendar (it works from Desktop only).\\nRegister before the course starts using this link.\\nJoin the course Telegram channel with announcements.\\nDon’t forget to register in DataTalks.Club's Slack and join the channel.\",\n",
    "  'section': 'General course-related questions',\n",
    "  'question': 'Course - When will the course start?',\n",
    "  'course': 'data-engineering-zoomcamp'},\n",
    " {'text': 'You can start by installing and setting up all the dependencies and requirements:\\nGoogle cloud account\\nGoogle Cloud SDK\\nPython 3 (installed with Anaconda)\\nTerraform\\nGit\\nLook over the prerequisites and syllabus to see if you are comfortable with these subjects.',\n",
    "  'section': 'General course-related questions',\n",
    "  'question': 'Course - What can I do before the course starts?',\n",
    "  'course': 'data-engineering-zoomcamp'},\n",
    " {'text': 'Star the repo! Share it with friends if you find it useful ❣️\\nCreate a PR if you see you can improve the text or the structure of the repository.',\n",
    "  'section': 'General course-related questions',\n",
    "  'question': 'How can we contribute to the course?',\n",
    "  'course': 'data-engineering-zoomcamp'}]"
   ]
  },
  {
   "cell_type": "code",
   "execution_count": null,
   "metadata": {
    "colab": {
     "base_uri": "https://localhost:8080/"
    },
    "id": "wvZpnLwA2lTy",
    "outputId": "def63f17-7bb6-4185-cde8-e2f9309bd547"
   },
   "outputs": [],
   "source": [
    "doc_texts = [doc[\"text\"] for doc in documents]\n",
    "doc_vectors = list(embedder.embed(doc_texts))\n",
    "scores_q3 = [np.dot(query_embedding, vec) for vec in doc_vectors]\n",
    "print(\"Q3 - Best match index:\", np.argmax(scores_q3))"
   ]
  },
  {
   "cell_type": "code",
   "execution_count": null,
   "metadata": {
    "colab": {
     "base_uri": "https://localhost:8080/"
    },
    "id": "wTxmLenR38a4",
    "outputId": "e433284a-c419-4dfb-b287-6226f7fcea86"
   },
   "outputs": [],
   "source": [
    "full_texts = [doc[\"question\"] + \" \" + doc[\"text\"] for doc in documents]\n",
    "full_vectors = list(embedder.embed(full_texts))\n",
    "scores_q4 = [np.dot(query_embedding, vec) for vec in full_vectors]\n",
    "print(\"Q4 - Best match index:\", np.argmax(scores_q4))"
   ]
  },
  {
   "cell_type": "code",
   "execution_count": null,
   "metadata": {
    "colab": {
     "base_uri": "https://localhost:8080/",
     "height": 227,
     "referenced_widgets": [
      "1010a5f9deb24dada2be2cdf714deb26",
      "eb3b93007330486ba1c801ff8317a8d3",
      "42e97605e5b54a49bb158d9bb1e7e2ad",
      "f8427b666b7d4bf99c53c5806f25172e",
      "82a1a3c7d05a4a7dae3cffcd70aadfc3",
      "c5d6e9e95cb644f0b3ff64a539646929",
      "eedafa3b3bd645b4b410370a20d97adc",
      "179a85f37b82471c86143ecc0cfdd254",
      "243f82d181ce4660bfc89df72941e094",
      "9b406afe3946419a92beadf0d68baa1b",
      "f802c1083b1843dd9edf7c8a1a276110",
      "acedf3388b6b4dde9402a12248dc2489",
      "0e2690a01cbe4f9cad47a146f21fd8d6",
      "09175b0871bc45c783f075fa363b1549",
      "57cc30bff3f841aa9d42ba8260f93194",
      "eb81acb79c794489bc0c6e66815f0520",
      "e3b6f366aec0499f9b18fd9e86d05be9",
      "71ac07c547a94c00a913441a313c6dcb",
      "416718dd30774414807dca102700df67",
      "6ce5868c0b9d4aa9a68c2ee07553968e",
      "97fe6ca5fd7a43b5a8a52e4078421888",
      "818d1ffa955746b3bca0682955346b78",
      "2d2c4b96f0bf4f4e9ed8ff98bab4d59c",
      "9830028c187448be9ee43f12fd2845cd",
      "84bbd54792af4c56a31a3b1ea210d7aa",
      "7f21dfdc4d7b4b62a8b075eb733a5a22",
      "ed0547a2219d410881410ecd253ff1f8",
      "6c58fce7295e4123a37804e8741347b1",
      "de838d5397ec4cfb921b1e4f71413836",
      "a305db3a01314fc6abab1ab297c2b2c5",
      "9a7b9e0abb154052996fdf78c6ae80bf",
      "fbf130f9b3d942b2aa7a3c43908c7988",
      "d98de3a3e5ed418d953701795d18651b",
      "2408bb9eeb7c4f95964817babc94f293",
      "e2a9cb3c61a6402a9060dc0af1b8d2ab",
      "93f819492782447a9feff02a9dab1f57",
      "9cee4f5178eb4e7484ade10605dab77f",
      "5534160409c04552ab2c94613dcac168",
      "8ae2d9058ec84abf83812e4da81b2940",
      "95fc8d9434e74f949cd1092dd792cc91",
      "46cfe5b40fbd41319b417ed6ec4e7f94",
      "a1a31b286a0b41739698d4a4de767cf6",
      "ee9aa3d820034e9586326e23f322babf",
      "7404a94421854fa48fb679112cbfd934",
      "21ff6ae8af2f4426a1a5d40d81c0d4ef",
      "34c9fcc2721f40ceb7496c01c824ad87",
      "daaa3da8a4124a17830464ad64bf2854",
      "bad0560694ad4f4a81bc31ad2247fa0e",
      "be24accdfbf745b1a81bf9e76742f3b7",
      "17c0a58a38e5494fadfd82c41bbee0a8",
      "63299ccdc3794caab2b343d15b53ba7b",
      "1251f0967bcb44538b1c70fd65c24c8f",
      "e985199c307b44ba9437df38661ad726",
      "eef5a7910c974c9fbdc2bd72f914daeb",
      "feeae14246e44c4d8e04253e811c5ed6",
      "2e7782666689413291f9489101fc03d7",
      "e0e0752b7fd14bcc860301fca6f37e1e",
      "849ed747ce504d8ea03a8a3ec3c01757",
      "a452419e7ded439294db5260776659ff",
      "123f5a90383a4123a40330b012ca72c4",
      "13085f1ead274074a4ebbe3ce8cddc2b",
      "3d3cfd573cf043fea5b68f499dca8b8f",
      "790e258716e04753ba39bbbf5df7a07e",
      "525a44540d004038b937bef2d23cc798",
      "70fbc2e0bf414d78a542a3efce0d60ce",
      "2acca834834d44d4ae1ae1b113a31d58"
     ]
    },
    "id": "QraSZGeM47gf",
    "outputId": "486d4b96-5397-4374-91f2-b2274cfad458"
   },
   "outputs": [],
   "source": [
    "embedder = TextEmbedding(model_name=\"BAAI/bge-small-en\")\n",
    "vec = list(embedder.embed([\"test sentence\"]))[0]\n",
    "print(len(vec))"
   ]
  },
  {
   "cell_type": "code",
   "execution_count": null,
   "metadata": {
    "colab": {
     "base_uri": "https://localhost:8080/"
    },
    "id": "2cZtXkoM5xx2",
    "outputId": "2330c25e-fde2-44e1-d88b-92959acd6158"
   },
   "outputs": [],
   "source": [
    "!pip install fastembed qdrant-client\n",
    "\n"
   ]
  },
  {
   "cell_type": "code",
   "execution_count": null,
   "metadata": {
    "id": "5ql2OfKL592H"
   },
   "outputs": [],
   "source": [
    "from fastembed import TextEmbedding\n",
    "from qdrant_client import QdrantClient\n",
    "from qdrant_client.models import VectorParams, Distance, PointStruct\n",
    "import requests\n",
    "import uuid"
   ]
  },
  {
   "cell_type": "code",
   "execution_count": null,
   "metadata": {
    "id": "0YYB5nNt6HqE"
   },
   "outputs": [],
   "source": [
    "docs_url = 'https://github.com/alexeygrigorev/llm-rag-workshop/raw/main/notebooks/documents.json'\n",
    "docs_response = requests.get(docs_url)\n",
    "documents_raw = docs_response.json()\n",
    "\n",
    "\n",
    "documents = []\n",
    "\n",
    "for course in documents_raw:\n",
    "    course_name = course['course']\n",
    "    if course_name != 'machine-learning-zoomcamp':\n",
    "        continue\n",
    "\n",
    "    for doc in course['documents']:\n",
    "        doc['course'] = course_name\n",
    "        documents.append(doc)"
   ]
  },
  {
   "cell_type": "code",
   "execution_count": null,
   "metadata": {
    "id": "FhhJYw__6W7k"
   },
   "outputs": [],
   "source": [
    "# Prepare the text: concatenate question + text\n",
    "full_texts = [doc['question'] + ' ' + doc['text'] for doc in documents]"
   ]
  },
  {
   "cell_type": "code",
   "execution_count": null,
   "metadata": {
    "id": "8dSpBRr46Ym1"
   },
   "outputs": [],
   "source": [
    "# Embed using BAAI/bge-small-en (384 dim)\n",
    "embedder = TextEmbedding(model_name=\"BAAI/bge-small-en\")\n",
    "embeddings = list(embedder.embed(full_texts))"
   ]
  },
  {
   "cell_type": "code",
   "execution_count": null,
   "metadata": {
    "colab": {
     "base_uri": "https://localhost:8080/"
    },
    "id": "e6wnXL2P7ag_",
    "outputId": "8379172c-dd3a-4de0-a157-33fa5a8c1c1f"
   },
   "outputs": [],
   "source": [
    "# Create a collection\n",
    "client = QdrantClient(path=\"qdrant_index\")  # local file-based\n",
    "collection_name = \"ml-zoomcamp-faq\"\n",
    "client.recreate_collection(\n",
    "    collection_name=collection_name,\n",
    "    vectors_config=VectorParams(size=384, distance=Distance.COSINE),\n",
    ")\n",
    "\n",
    "# Upload vectors\n",
    "points = [\n",
    "    PointStruct(\n",
    "        id=str(uuid.uuid4()),\n",
    "        vector=embedding,\n",
    "        payload={\"text\": full_texts[i], \"original\": documents[i]}\n",
    "    )\n",
    "    for i, embedding in enumerate(embeddings)\n",
    "]\n",
    "\n",
    "client.upsert(collection_name=collection_name, points=points)\n",
    "\n",
    "# Q6 Query\n",
    "query = \"I just discovered the course. Can I join now?\"\n",
    "query_vector = list(embedder.embed([query]))[0]\n",
    "\n",
    "search_result = client.search(\n",
    "    collection_name=collection_name,\n",
    "    query_vector=query_vector,\n",
    "    limit=1,\n",
    ")\n",
    "\n",
    "# Print top result and its score\n",
    "top_hit = search_result[0]\n",
    "print(\"Q6 - Top score:\", round(top_hit.score, 2))\n",
    "print(\"Matched question:\", top_hit.payload['original']['question'])"
   ]
  }
 ],
 "metadata": {
  "colab": {
   "authorship_tag": "ABX9TyOBkHbyrK+Pnfk/HQU0BBz5",
   "include_colab_link": true,
   "provenance": []
  },
  "kernelspec": {
   "display_name": "Python 3",
   "name": "python3"
  },
  "language_info": {
   "name": "python"
  }
 },
 "nbformat": 4,
 "nbformat_minor": 0
}
