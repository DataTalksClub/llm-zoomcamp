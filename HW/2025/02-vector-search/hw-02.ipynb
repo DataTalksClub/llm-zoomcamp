{
 "cells": [
  {
   "cell_type": "markdown",
   "id": "d04bcbe1",
   "metadata": {},
   "source": [
    "[Homework 2]('https://colab.research.google.com/github/Jaguar838/llm-zoomcamp/blob/main/HW/2025/02-vector-search/hw-02.ipynb')\n",
    "\n",
    "In this homework, we will learn more about vector search\n",
    "and embedding. Like in the module, we will use Qdrant and\n",
    "fastembed"
   ]
  },
  {
   "cell_type": "code",
   "execution_count": 2,
   "id": "9930af78",
   "metadata": {},
   "outputs": [
    {
     "name": "stderr",
     "output_type": "stream",
     "text": [
      "/home/oleg_yamgurov/llm-zoomcamp/.venv/lib/python3.12/site-packages/tqdm/auto.py:21: TqdmWarning: IProgress not found. Please update jupyter and ipywidgets. See https://ipywidgets.readthedocs.io/en/stable/user_install.html\n",
      "  from .autonotebook import tqdm as notebook_tqdm\n"
     ]
    }
   ],
   "source": [
    "from fastembed import TextEmbedding"
   ]
  },
  {
   "cell_type": "markdown",
   "id": "2d96f2e4",
   "metadata": {},
   "source": [
    "## Q1. Embedding the query\n",
    "\n",
    "Embed the query: `'I just discovered the course. Can I join now?'`.\n",
    "Use the `'jinaai/jina-embeddings-v2-small-en'` model. \n",
    "\n",
    "You should get a numpy array of size 512.\n",
    "\n",
    "What's the minimal value in this array?\n",
    "\n",
    "* -0.51\n",
    "* -0.11\n",
    "* 0\n",
    "* 0.51"
   ]
  },
  {
   "cell_type": "code",
   "execution_count": 18,
   "id": "2540543b",
   "metadata": {},
   "outputs": [],
   "source": [
    "query = 'I just discovered the course. Can I join now?'"
   ]
  },
  {
   "cell_type": "code",
   "execution_count": 4,
   "id": "28e7a719",
   "metadata": {},
   "outputs": [
    {
     "name": "stderr",
     "output_type": "stream",
     "text": [
      "Fetching 5 files: 100%|██████████| 5/5 [00:03<00:00,  1.66it/s]\n"
     ]
    },
    {
     "name": "stdout",
     "output_type": "stream",
     "text": [
      "Минимальное значение в эмбеддинге: -0.11726373885183883\n"
     ]
    }
   ],
   "source": [
    "# Загружаем модель\n",
    "embedder = TextEmbedding(model_name=\"jinaai/jina-embeddings-v2-small-en\")\n",
    "\n",
    "# Получаем эмбеддинг как генератор\n",
    "embedding_gen = embedder.embed([query])\n",
    "\n",
    "# Преобразуем генератор в список и берём первый (и единственный) результат\n",
    "embedding = list(embedding_gen)[0]\n",
    "\n",
    "# Выводим минимальное значение\n",
    "print(\"Минимальное значение в эмбеддинге:\", min(embedding))"
   ]
  },
  {
   "cell_type": "markdown",
   "id": "2a6c7848",
   "metadata": {},
   "source": [
    "## Косинусное сходство\n",
    "\n",
    "Векторы, которые возвращает наша модель эмбеддингов, уже нормализованы: их длина равна 1.0.\n",
    "\n",
    "Ты можешь это проверить с помощью функции `norm`:\n",
    "\n",
    "```python\n",
    "import numpy as np\n",
    "np.linalg.norm(q)\n",
    "```\n",
    "\n",
    "Это означает, что мы можем просто вычислить *скалярное произведение* двух векторов, чтобы узнать их косинусное сходство.\n",
    "\n",
    "Например, если вычислить косинусное сходство вектора запроса с самим собой, результат будет 1.0:\n",
    "\n",
    "```python\n",
    "q.dot(q)\n",
    "```\n",
    "\n",
    "Если хочешь, могу объяснить, что означает нормализация и как косинусное сходство помогает находить похожие тексты."
   ]
  },
  {
   "cell_type": "code",
   "execution_count": 7,
   "id": "b8aec869",
   "metadata": {},
   "outputs": [
    {
     "data": {
      "text/plain": [
       "array([-7.63946260e-02, -7.30555505e-02,  5.86501763e-02,  3.92670571e-02,\n",
       "       -1.41797115e-02, -4.68342854e-02,  2.69862822e-02,  3.49039060e-02,\n",
       "        1.53419217e-03, -1.10407363e-02,  5.57556285e-02, -2.88360142e-02,\n",
       "       -4.87239498e-02, -9.90923923e-02,  6.02579764e-02, -1.86105379e-02,\n",
       "       -8.81040139e-03, -3.01994831e-02, -1.42541815e-02, -3.87884212e-02,\n",
       "       -2.76125662e-02, -6.94957533e-03,  3.20653319e-02, -5.17838394e-03,\n",
       "        8.37959894e-02, -8.87329606e-02, -7.30260625e-02,  5.92846802e-02,\n",
       "        4.07805674e-02,  7.72684822e-02, -4.60029697e-02,  3.98426895e-02,\n",
       "        1.74821510e-02,  8.70263712e-03, -3.09291054e-02,  2.20470391e-02,\n",
       "        4.76479896e-02,  1.76566196e-02, -3.62013627e-02, -3.53408062e-02,\n",
       "       -5.92537995e-03,  2.97091202e-02,  8.05883752e-02,  1.07132722e-02,\n",
       "       -5.38192519e-02, -9.62881111e-03, -1.17263739e-01,  3.36546374e-02,\n",
       "        7.05763168e-03,  7.70159791e-03, -5.17482529e-02,  5.46955574e-02,\n",
       "       -7.80289904e-02,  4.21801655e-02,  1.26250977e-02,  5.31339061e-02,\n",
       "       -2.67777188e-02,  1.68820697e-02, -3.75064593e-02,  9.13196419e-03,\n",
       "        2.13696828e-02,  1.60150107e-02, -5.05650168e-02,  5.62205981e-02,\n",
       "       -3.66802752e-02, -3.85416649e-02, -4.21257068e-02, -1.36921605e-02,\n",
       "       -8.58582000e-02,  2.62640812e-02, -6.18555653e-02, -8.85548653e-03,\n",
       "        1.23171107e-01, -6.75609552e-02, -4.34100617e-03,  1.59791480e-02,\n",
       "       -4.54303694e-02,  7.61061035e-02,  1.84935283e-02, -3.07273239e-02,\n",
       "       -4.37180980e-02, -4.74576970e-02, -1.95920213e-02,  1.23776773e-02,\n",
       "       -9.96104568e-03, -6.74156430e-02,  2.54752070e-02,  1.22318157e-02,\n",
       "        5.58628908e-02, -3.14317861e-02, -7.23993812e-03,  6.33249508e-02,\n",
       "        5.72494416e-03, -6.21999926e-02, -3.08616666e-02, -4.27290132e-02,\n",
       "        5.16963715e-02,  3.27879512e-02, -2.44813464e-02,  1.79127801e-02,\n",
       "        9.48254300e-02,  2.18383887e-04,  7.01356128e-02, -2.01385767e-02,\n",
       "        3.64990936e-02,  2.13020106e-02, -5.67677388e-02, -3.08141841e-02,\n",
       "       -1.13907057e-01, -2.70064381e-02,  2.60184816e-03, -3.29073599e-02,\n",
       "       -2.55483216e-02, -3.43663291e-03, -5.98275691e-02,  1.65986045e-02,\n",
       "        7.20702840e-02, -4.90840227e-02, -4.08007783e-02, -1.96389009e-02,\n",
       "        5.16470383e-02,  2.06059173e-02, -1.93461828e-02,  3.72109559e-02,\n",
       "        5.30464167e-02,  7.98735160e-02,  8.71969437e-04, -3.86963865e-03,\n",
       "       -1.05970662e-02,  2.70435984e-03, -2.64808107e-02,  2.43888780e-02,\n",
       "       -2.96613003e-02,  1.24279089e-02,  1.33079558e-01, -3.45950744e-02,\n",
       "       -4.59976034e-03,  3.19832290e-02, -3.03514393e-02,  3.81469801e-02,\n",
       "       -4.84041680e-02, -4.63792157e-02,  4.00906577e-02, -4.82729863e-02,\n",
       "       -1.67069455e-02,  3.55168502e-03,  6.37974835e-02, -5.38861010e-02,\n",
       "       -7.28366643e-02,  1.03431210e-04, -1.55753781e-02,  3.20123469e-02,\n",
       "       -6.41519738e-02, -1.35402483e-02, -1.19589491e-03,  8.67279173e-02,\n",
       "       -7.58013634e-03,  5.23631978e-02,  1.13389494e-02, -2.93922167e-02,\n",
       "       -1.96549197e-02,  7.33475686e-02, -1.86934887e-02, -4.86155360e-02,\n",
       "       -4.39756671e-02, -4.00230242e-02,  7.97138121e-02,  9.00253404e-02,\n",
       "       -5.18778926e-02,  8.56788887e-03,  5.70034858e-02,  2.18162346e-02,\n",
       "       -6.55327841e-02, -1.07204614e-02, -1.09933147e-01, -3.49229900e-02,\n",
       "       -1.67648673e-02,  1.53578421e-02, -4.12044263e-02, -3.24616957e-02,\n",
       "        2.44591813e-02, -3.86447249e-02, -2.74304005e-02,  2.07971664e-02,\n",
       "        2.59328065e-02, -4.47550373e-02, -2.40584152e-02,  7.30849360e-03,\n",
       "        1.92917565e-02, -2.69451117e-02,  1.38715598e-02,  6.96978341e-03,\n",
       "        1.17285654e-02, -1.83301697e-02, -2.18455101e-02,  2.70035214e-03,\n",
       "       -1.10025930e-02,  8.52295180e-03, -1.21902448e-03,  2.31681636e-02,\n",
       "        8.07126958e-03,  6.94039269e-02, -5.96166642e-02,  3.58433548e-02,\n",
       "       -4.35553226e-02,  4.33547736e-02, -4.15783640e-02, -5.66755635e-02,\n",
       "       -5.41887066e-02, -2.39018335e-02,  5.63714821e-03,  2.37437432e-02,\n",
       "        7.10345497e-02,  1.73168487e-02, -3.22589041e-02, -1.94681982e-02,\n",
       "       -1.88142497e-02, -2.30825031e-02,  3.37894944e-02, -1.82798398e-02,\n",
       "        3.88098424e-03,  1.84338045e-02, -4.55277628e-03,  2.63694266e-02,\n",
       "       -1.90359504e-02, -2.69390028e-02,  1.15375980e-02,  1.16613910e-02,\n",
       "       -8.27911303e-03, -3.64428532e-02,  9.96343799e-02, -2.95558942e-02,\n",
       "       -5.38948585e-02, -2.51995032e-02,  1.22391840e-02, -2.27057696e-02,\n",
       "        5.10331226e-03, -6.74026331e-03, -2.43784301e-02,  6.32223970e-04,\n",
       "       -7.28257728e-02,  3.13266362e-02,  6.93626651e-02, -4.75812931e-02,\n",
       "        3.87882214e-03,  3.42483823e-02,  7.59028679e-02, -9.77512922e-03,\n",
       "        4.14942597e-02,  7.31681366e-02, -1.54856581e-02, -1.17918575e-02,\n",
       "       -1.91986853e-02, -9.79173999e-02, -3.14926753e-02,  5.35587215e-02,\n",
       "       -2.07791778e-02,  6.31239230e-02, -5.97242859e-02, -2.34605019e-02,\n",
       "        1.62664047e-02,  5.36607945e-02, -1.37692602e-02,  6.59834105e-02,\n",
       "       -9.24494435e-03, -1.99639826e-03, -4.87563415e-02,  1.39512364e-02,\n",
       "        1.22513624e-02,  2.98668828e-02, -8.00471534e-03, -5.96026749e-03,\n",
       "        2.81731843e-02, -2.13344179e-02, -3.77622793e-02, -2.27153343e-02,\n",
       "        5.60920953e-02,  4.30224526e-03,  3.63267996e-02, -3.72252920e-02,\n",
       "       -4.53949945e-02,  5.85438537e-02,  1.51176422e-02,  1.58622231e-02,\n",
       "        7.37733782e-02, -2.13885598e-02,  3.21582294e-02,  4.98212947e-02,\n",
       "        1.01769604e-01, -1.24236435e-02,  1.43238043e-02, -9.48454560e-02,\n",
       "       -2.63608466e-02, -8.66007188e-03, -9.82907467e-03,  7.52736761e-02,\n",
       "        3.69446387e-02,  3.14539880e-02,  1.04801427e-03,  3.11805728e-02,\n",
       "        1.28968684e-02,  2.60712994e-02, -4.77127535e-02, -2.55665457e-02,\n",
       "        1.08133073e-02,  1.03259874e-02,  3.39032555e-02,  2.75457424e-03,\n",
       "       -4.14582012e-02, -1.88644922e-02, -7.76502173e-03, -2.58755999e-02,\n",
       "       -1.52598044e-02,  3.38669614e-02,  6.38997726e-02,  3.95947359e-02,\n",
       "        6.39279106e-02, -5.20339341e-02, -6.02775764e-02,  1.38304806e-02,\n",
       "       -3.38930505e-02,  8.20156635e-03,  4.29572420e-02,  2.78503586e-02,\n",
       "        4.60315577e-02,  3.15629126e-02, -6.26106865e-02, -2.00963853e-02,\n",
       "       -2.12951154e-02,  7.16957078e-03, -2.15068569e-02,  2.82382423e-02,\n",
       "       -5.88513197e-02, -9.00752448e-02, -4.32891886e-02,  1.63749742e-02,\n",
       "       -6.45089774e-02, -7.18055952e-02,  2.46501169e-02, -2.64174014e-02,\n",
       "        3.86115464e-02,  1.27169565e-02,  8.03685672e-04,  8.49159402e-02,\n",
       "        1.61136302e-02, -4.81793090e-03,  2.04594849e-02,  1.67128650e-02,\n",
       "       -3.03005825e-02, -1.24897047e-02, -3.63357728e-02,  1.44468333e-03,\n",
       "       -4.16270567e-02, -1.42457325e-02, -8.83564826e-02,  6.22003659e-03,\n",
       "       -2.39217371e-02, -7.03374646e-02, -1.11459769e-02,  1.11177866e-01,\n",
       "        6.87285555e-03, -7.54896071e-02, -1.73166835e-02,  6.21763840e-02,\n",
       "        4.25542051e-02, -1.69422625e-02, -1.63471712e-02, -3.44401454e-02,\n",
       "        4.77698132e-02,  2.33155298e-02,  8.94857826e-02,  1.42584208e-02,\n",
       "        1.43973414e-02, -5.88510365e-02,  3.24906040e-02, -3.99427283e-02,\n",
       "        4.31553610e-02, -7.62977668e-04,  1.45717973e-04, -1.85997997e-02,\n",
       "        1.81445612e-02,  1.57167364e-02,  1.29852596e-02, -5.66555449e-02,\n",
       "       -5.92251874e-02,  2.17671620e-02, -1.70178640e-02,  2.31958723e-02,\n",
       "        5.17287716e-02,  3.37852959e-03, -4.31143234e-02, -4.11303191e-02,\n",
       "       -3.27946610e-02,  2.10255619e-02,  4.65154831e-02, -7.14069534e-02,\n",
       "        6.12375013e-02,  5.74542284e-02, -1.79589860e-02,  7.42588820e-02,\n",
       "       -7.82925929e-03,  2.00935910e-02, -4.51636184e-02, -8.47051140e-03,\n",
       "       -4.02671006e-02, -3.99867475e-02, -7.70418961e-02, -1.81935777e-02,\n",
       "        2.48719998e-02,  1.00413838e-02,  5.88155492e-02,  1.62364723e-02,\n",
       "        6.73376058e-02,  1.34455565e-02, -3.37173721e-02, -7.30230081e-02,\n",
       "       -6.79930628e-02, -2.74973249e-02, -3.99597450e-02,  2.44650646e-02,\n",
       "        1.31535110e-02,  2.45552779e-03, -3.60949438e-02,  2.72918057e-02,\n",
       "        6.22414340e-02,  7.20206119e-03,  2.80186718e-02, -3.16789369e-02,\n",
       "        5.00258220e-02,  3.00860520e-02,  7.12026124e-03, -3.76218121e-02,\n",
       "       -4.77905406e-02,  3.03310049e-02, -7.07371730e-02,  4.68780653e-02,\n",
       "        2.32905925e-02, -8.25114015e-02,  2.57834102e-02, -8.21667654e-03,\n",
       "        1.05564397e-01, -9.76066944e-02,  3.49954042e-02,  2.96988144e-02,\n",
       "        6.05656990e-02,  9.99905877e-02,  6.00288395e-02, -2.74579383e-02,\n",
       "       -3.83101976e-02,  4.98680448e-02,  9.85788765e-03,  5.27928464e-02,\n",
       "       -4.71740333e-02,  2.29061163e-02, -1.41790659e-02, -2.21464944e-03,\n",
       "       -1.27322523e-02, -1.00020015e-01,  2.18197615e-02,  2.71504457e-02,\n",
       "        3.33837602e-02, -2.58465315e-02, -3.42772881e-02, -1.70145880e-02,\n",
       "        8.48108924e-03,  2.40059520e-02,  5.04427584e-02, -7.67204713e-03,\n",
       "        6.80716881e-02, -1.75598061e-02, -1.96400559e-02, -8.53397784e-02,\n",
       "       -3.29056414e-03,  4.06993761e-02,  9.23691839e-02,  1.29570486e-02,\n",
       "        5.61266639e-02,  4.19532063e-02, -5.81196839e-02,  9.31649506e-02,\n",
       "       -8.03499941e-02, -5.46839092e-02, -6.23098193e-02, -8.77602426e-02,\n",
       "       -3.27637979e-02, -3.68523842e-02,  2.54524859e-02, -3.51777163e-03,\n",
       "        6.20159225e-02,  3.89112303e-02, -4.91863775e-02, -6.71836526e-02,\n",
       "       -1.25448864e-02, -3.02974540e-02, -4.00670636e-02,  4.24238795e-02,\n",
       "        2.46685657e-02, -4.83336442e-02,  6.88141229e-02,  4.17306001e-02,\n",
       "        4.73113083e-02, -7.63803321e-02,  1.48983892e-02,  4.59311499e-02,\n",
       "       -2.27894423e-02,  7.15364112e-02, -2.08668148e-02, -4.33649954e-02,\n",
       "       -7.64807886e-02,  7.62216942e-02,  3.91963105e-02,  1.22587277e-02])"
      ]
     },
     "execution_count": 7,
     "metadata": {},
     "output_type": "execute_result"
    }
   ],
   "source": [
    "embedding"
   ]
  },
  {
   "cell_type": "code",
   "execution_count": 5,
   "id": "eedfbd98",
   "metadata": {},
   "outputs": [
    {
     "data": {
      "text/plain": [
       "np.float64(1.0)"
      ]
     },
     "execution_count": 5,
     "metadata": {},
     "output_type": "execute_result"
    }
   ],
   "source": [
    "import numpy as np\n",
    "np.linalg.norm(embedding)"
   ]
  },
  {
   "cell_type": "code",
   "execution_count": 6,
   "id": "5b43be4c",
   "metadata": {},
   "outputs": [
    {
     "data": {
      "text/plain": [
       "np.float64(1.0000000000000002)"
      ]
     },
     "execution_count": 6,
     "metadata": {},
     "output_type": "execute_result"
    }
   ],
   "source": [
    "embedding.dot(embedding)"
   ]
  },
  {
   "cell_type": "markdown",
   "id": "b0621616",
   "metadata": {},
   "source": [
    "## Q2. Cosine similarity with another vector\n",
    "\n",
    "Now let's embed this document:\n",
    "\n",
    "```python\n",
    "doc = 'Can I still join the course after the start date?'\n",
    "```\n",
    "\n",
    "What's the cosine similarity between the vector for the query\n",
    "and the vector for the document?\n",
    "\n",
    "* 0.3\n",
    "* 0.5\n",
    "* 0.7\n",
    "* 0.9"
   ]
  },
  {
   "cell_type": "code",
   "execution_count": 19,
   "id": "05fdda22",
   "metadata": {},
   "outputs": [],
   "source": [
    "doc = 'Can I still join the course after the start date?'"
   ]
  },
  {
   "cell_type": "code",
   "execution_count": 21,
   "id": "ca1b494b",
   "metadata": {},
   "outputs": [
    {
     "name": "stdout",
     "output_type": "stream",
     "text": [
      "Косинусна схожість: 0.901\n"
     ]
    }
   ],
   "source": [
    "# Запит і документ\n",
    "query = \"I just discovered the course. Can I join now?\"\n",
    "doc = \"Can I still join the course after the start date?\"\n",
    "\n",
    "# Отримуємо ембеддинги (перший елемент із генератора)\n",
    "q_vec = list(embedder.embed([query]))[0]\n",
    "d_vec = list(embedder.embed([doc]))[0]\n",
    "\n",
    "# Обчислюємо косинусну схожість як скалярний добуток\n",
    "cosine_similarity = np.dot(q_vec, d_vec)\n",
    "\n",
    "print(f\"Косинусна схожість: {cosine_similarity:.3f}\")"
   ]
  },
  {
   "cell_type": "markdown",
   "id": "74a3fbcb",
   "metadata": {},
   "source": [
    "## Q3. Ranking by cosine\n",
    "\n",
    "For Q3 and Q4 we will use these documents:\n",
    "\n",
    "```python\n",
    "documents = [{'text': \"Yes, even if you don't register, you're still eligible to submit the homeworks.\\nBe aware, however, that there will be deadlines for turning in the final projects. So don't leave everything for the last minute.\",\n",
    "  'section': 'General course-related questions',\n",
    "  'question': 'Course - Can I still join the course after the start date?',\n",
    "  'course': 'data-engineering-zoomcamp'},\n",
    " {'text': 'Yes, we will keep all the materials after the course finishes, so you can follow the course at your own pace after it finishes.\\nYou can also continue looking at the homeworks and continue preparing for the next cohort. I guess you can also start working on your final capstone project.',\n",
    "  'section': 'General course-related questions',\n",
    "  'question': 'Course - Can I follow the course after it finishes?',\n",
    "  'course': 'data-engineering-zoomcamp'},\n",
    " {'text': \"The purpose of this document is to capture frequently asked technical questions\\nThe exact day and hour of the course will be 15th Jan 2024 at 17h00. The course will start with the first  “Office Hours'' live.1\\nSubscribe to course public Google Calendar (it works from Desktop only).\\nRegister before the course starts using this link.\\nJoin the course Telegram channel with announcements.\\nDon’t forget to register in DataTalks.Club's Slack and join the channel.\",\n",
    "  'section': 'General course-related questions',\n",
    "  'question': 'Course - When will the course start?',\n",
    "  'course': 'data-engineering-zoomcamp'},\n",
    " {'text': 'You can start by installing and setting up all the dependencies and requirements:\\nGoogle cloud account\\nGoogle Cloud SDK\\nPython 3 (installed with Anaconda)\\nTerraform\\nGit\\nLook over the prerequisites and syllabus to see if you are comfortable with these subjects.',\n",
    "  'section': 'General course-related questions',\n",
    "  'question': 'Course - What can I do before the course starts?',\n",
    "  'course': 'data-engineering-zoomcamp'},\n",
    " {'text': 'Star the repo! Share it with friends if you find it useful ❣️\\nCreate a PR if you see you can improve the text or the structure of the repository.',\n",
    "  'section': 'General course-related questions',\n",
    "  'question': 'How can we contribute to the course?',\n",
    "  'course': 'data-engineering-zoomcamp'}]\n",
    "```\n",
    "\n",
    "Compute the embeddings for the text field, and compute the \n",
    "cosine between the query vector and all the documents.\n",
    "\n",
    "What's the document index with the highest similarity? (Indexing starts from 0):\n",
    "\n",
    "- 0\n",
    "- 1\n",
    "- 2\n",
    "- 3\n",
    "- 4\n",
    "\n",
    "Hint: if you put all the embeddings of the text field in one matrix `V` (a single 2-dimensional numpy array), then\n",
    "computing the cosine becomes a matrix multiplication:\n",
    "\n",
    "```python\n",
    "V.dot(q)\n",
    "```\n",
    "\n",
    "If this hint is rather confusing you than helping, feel free\n",
    "to ignore it."
   ]
  },
  {
   "cell_type": "code",
   "execution_count": 26,
   "id": "2c9bf66b",
   "metadata": {},
   "outputs": [],
   "source": [
    "documents = [{'text': \"Yes, even if you don't register, you're still eligible to submit the homeworks.\\nBe aware, however, that there will be deadlines for turning in the final projects. So don't leave everything for the last minute.\",\n",
    "  'section': 'General course-related questions',\n",
    "  'question': 'Course - Can I still join the course after the start date?',\n",
    "  'course': 'data-engineering-zoomcamp'},\n",
    " {'text': 'Yes, we will keep all the materials after the course finishes, so you can follow the course at your own pace after it finishes.\\nYou can also continue looking at the homeworks and continue preparing for the next cohort. I guess you can also start working on your final capstone project.',\n",
    "  'section': 'General course-related questions',\n",
    "  'question': 'Course - Can I follow the course after it finishes?',\n",
    "  'course': 'data-engineering-zoomcamp'},\n",
    " {'text': \"The purpose of this document is to capture frequently asked technical questions\\nThe exact day and hour of the course will be 15th Jan 2024 at 17h00. The course will start with the first  “Office Hours'' live.1\\nSubscribe to course public Google Calendar (it works from Desktop only).\\nRegister before the course starts using this link.\\nJoin the course Telegram channel with announcements.\\nDon’t forget to register in DataTalks.Club's Slack and join the channel.\",\n",
    "  'section': 'General course-related questions',\n",
    "  'question': 'Course - When will the course start?',\n",
    "  'course': 'data-engineering-zoomcamp'},\n",
    " {'text': 'You can start by installing and setting up all the dependencies and requirements:\\nGoogle cloud account\\nGoogle Cloud SDK\\nPython 3 (installed with Anaconda)\\nTerraform\\nGit\\nLook over the prerequisites and syllabus to see if you are comfortable with these subjects.',\n",
    "  'section': 'General course-related questions',\n",
    "  'question': 'Course - What can I do before the course starts?',\n",
    "  'course': 'data-engineering-zoomcamp'},\n",
    " {'text': 'Star the repo! Share it with friends if you find it useful ❣️\\nCreate a PR if you see you can improve the text or the structure of the repository.',\n",
    "  'section': 'General course-related questions',\n",
    "  'question': 'How can we contribute to the course?',\n",
    "  'course': 'data-engineering-zoomcamp'}]"
   ]
  },
  {
   "cell_type": "code",
   "execution_count": 39,
   "id": "d4909600",
   "metadata": {},
   "outputs": [
    {
     "data": {
      "text/plain": [
       "(5, 512)"
      ]
     },
     "execution_count": 39,
     "metadata": {},
     "output_type": "execute_result"
    }
   ],
   "source": [
    "doc_vecs = []\n",
    "for doc in documents:\n",
    "    qa_text = doc['question']\n",
    "    embedding = embedder.embed(qa_text)\n",
    "    doc_vecs.append(list(embedding)[0])\n",
    "\n",
    "# Перетворюємо список ембеддингів у матрицю\n",
    "V = np.stack(doc_vecs)\n",
    "V.shape"
   ]
  },
  {
   "cell_type": "code",
   "execution_count": 40,
   "id": "350580b1",
   "metadata": {},
   "outputs": [
    {
     "name": "stdout",
     "output_type": "stream",
     "text": [
      "Документ з найвищою схожістю має індекс: 0\n"
     ]
    }
   ],
   "source": [
    "# Косинусна схожість як матричне множення\n",
    "similarities = V.dot(q_vec)\n",
    "\n",
    "# Шукаємо індекс найвищої схожості\n",
    "best_index = int(np.argmax(similarities))\n",
    "\n",
    "print(f\"Документ з найвищою схожістю має індекс: {best_index}\")"
   ]
  },
  {
   "cell_type": "code",
   "execution_count": 41,
   "id": "02141435",
   "metadata": {},
   "outputs": [
    {
     "data": {
      "image/png": "[encoded data removed]",
      "text/plain": [
       "<Figure size 800x400 with 1 Axes>"
      ]
     },
     "metadata": {},
     "output_type": "display_data"
    }
   ],
   "source": [
    "import matplotlib.pyplot as plt\n",
    "\n",
    "# Побудова графіка\n",
    "plt.figure(figsize=(8, 4))\n",
    "bars = plt.bar(range(len(documents)), similarities, color='skyblue')\n",
    "plt.xlabel(\"Індекс документа\")\n",
    "plt.ylabel(\"Косинусна схожість\")\n",
    "plt.title(\"Схожість між запитом і кожним документом\")\n",
    "plt.xticks(range(len(documents)))\n",
    "plt.ylim(0, 1.05)\n",
    "\n",
    "# Підпис значень\n",
    "for i, bar in enumerate(bars):\n",
    "    height = bar.get_height()\n",
    "    plt.text(i, height + 0.02, f\"{height:.2f}\", ha='center', va='bottom')\n",
    "\n",
    "plt.tight_layout()\n",
    "plt.show()"
   ]
  },
  {
   "cell_type": "markdown",
   "id": "53ecf8a8",
   "metadata": {},
   "source": [
    "## Q4. Ranking by cosine, version two\n",
    "\n",
    "Now let's calculate a new field, which is a concatenation of\n",
    "`question` and `text`:\n",
    "\n",
    "```python\n",
    "full_text = doc['question'] + ' ' + doc['text']\n",
    "``` \n",
    "\n",
    "Embed this field and compute the cosine between it and the\n",
    "query vector. What's the highest scoring document?\n",
    "\n",
    "- 0\n",
    "- 1\n",
    "- 2\n",
    "- 3\n",
    "- 4\n",
    "\n",
    "Is it different from Q3? If yes, why?"
   ]
  },
  {
   "cell_type": "code",
   "execution_count": 35,
   "id": "74a894d5",
   "metadata": {},
   "outputs": [
    {
     "data": {
      "text/plain": [
       "(5, 512)"
      ]
     },
     "execution_count": 35,
     "metadata": {},
     "output_type": "execute_result"
    }
   ],
   "source": [
    "doc_vecs = []\n",
    "for doc in documents:\n",
    "    qa_text = f\"{doc['question']} {doc['text']}\"\n",
    "    embedding = embedder.embed(qa_text)\n",
    "    doc_vecs.append(list(embedding)[0])\n",
    "\n",
    "# Перетворюємо список ембеддингів у матрицю\n",
    "V = np.stack(doc_vecs)\n",
    "V.shape"
   ]
  },
  {
   "cell_type": "code",
   "execution_count": 36,
   "id": "87b99b56",
   "metadata": {},
   "outputs": [
    {
     "data": {
      "text/plain": [
       "array([[-0.03958748, -0.06904069,  0.01146618, ...,  0.09114032,\n",
       "         0.04739896, -0.01033183],\n",
       "       [-0.08249755, -0.08627812,  0.00593604, ...,  0.10836487,\n",
       "         0.05654416,  0.00051011],\n",
       "       [-0.07798266, -0.05428376,  0.05052968, ...,  0.07455595,\n",
       "         0.04321019, -0.01098255],\n",
       "       [-0.0719691 , -0.05147855,  0.02265294, ...,  0.04538724,\n",
       "         0.09451547, -0.00157571],\n",
       "       [-0.08384529, -0.05699563,  0.00955793, ...,  0.04386464,\n",
       "         0.034007  , -0.01080237]], shape=(5, 512))"
      ]
     },
     "execution_count": 36,
     "metadata": {},
     "output_type": "execute_result"
    }
   ],
   "source": [
    "V"
   ]
  },
  {
   "cell_type": "code",
   "execution_count": 37,
   "id": "ebd5f885",
   "metadata": {},
   "outputs": [
    {
     "name": "stdout",
     "output_type": "stream",
     "text": [
      "Документ з найвищою схожістю має індекс: 0\n"
     ]
    }
   ],
   "source": [
    "# Косинусна схожість як матричне множення\n",
    "similarities = V.dot(q_vec)\n",
    "\n",
    "# Шукаємо індекс найвищої схожості\n",
    "best_index = int(np.argmax(similarities))\n",
    "\n",
    "print(f\"Документ з найвищою схожістю має індекс: {best_index}\")"
   ]
  },
  {
   "cell_type": "code",
   "execution_count": 38,
   "id": "2823e76b",
   "metadata": {},
   "outputs": [
    {
     "data": {
      "image/png": "[encoded data removed]",
      "text/plain": [
       "<Figure size 800x400 with 1 Axes>"
      ]
     },
     "metadata": {},
     "output_type": "display_data"
    }
   ],
   "source": [
    "import matplotlib.pyplot as plt\n",
    "\n",
    "# Побудова графіка\n",
    "plt.figure(figsize=(8, 4))\n",
    "bars = plt.bar(range(len(documents)), similarities, color='skyblue')\n",
    "plt.xlabel(\"Індекс документа\")\n",
    "plt.ylabel(\"Косинусна схожість\")\n",
    "plt.title(\"Схожість між запитом і кожним документом\")\n",
    "plt.xticks(range(len(documents)))\n",
    "plt.ylim(0, 1.05)\n",
    "\n",
    "# Підпис значень\n",
    "for i, bar in enumerate(bars):\n",
    "    height = bar.get_height()\n",
    "    plt.text(i, height + 0.02, f\"{height:.2f}\", ha='center', va='bottom')\n",
    "\n",
    "plt.tight_layout()\n",
    "plt.show()"
   ]
  },
  {
   "cell_type": "markdown",
   "id": "97fa88a5",
   "metadata": {},
   "source": [
    "## Q5. Selecting the embedding model\n",
    "\n",
    "Now let's select a smaller embedding model.\n",
    "What's the smallest dimensionality for models in fastembed?\n",
    "\n",
    "- 128\n",
    "- 256\n",
    "- 384\n",
    "- 512\n",
    "\n",
    "One of these models is `BAAI/bge-small-en`. Let's use it."
   ]
  },
  {
   "cell_type": "code",
   "execution_count": 46,
   "id": "0543d49b",
   "metadata": {},
   "outputs": [
    {
     "name": "stdout",
     "output_type": "stream",
     "text": [
      "{\n",
      "  \"model\": \"BAAI/bge-small-en\",\n",
      "  \"sources\": {\n",
      "    \"hf\": \"Qdrant/bge-small-en\",\n",
      "    \"url\": \"https://storage.googleapis.com/qdrant-fastembed/BAAI-bge-small-en.tar.gz\",\n",
      "    \"_deprecated_tar_struct\": true\n",
      "  },\n",
      "  \"model_file\": \"model_optimized.onnx\",\n",
      "  \"description\": \"Text embeddings, Unimodal (text), English, 512 input tokens truncation, Prefixes for queries/documents: necessary, 2023 year.\",\n",
      "  \"license\": \"mit\",\n",
      "  \"size_in_GB\": 0.13,\n",
      "  \"additional_files\": [],\n",
      "  \"dim\": 384,\n",
      "  \"tasks\": {}\n",
      "}\n",
      "{\n",
      "  \"model\": \"BAAI/bge-small-en-v1.5\",\n",
      "  \"sources\": {\n",
      "    \"hf\": \"qdrant/bge-small-en-v1.5-onnx-q\",\n",
      "    \"url\": null,\n",
      "    \"_deprecated_tar_struct\": false\n",
      "  },\n",
      "  \"model_file\": \"model_optimized.onnx\",\n",
      "  \"description\": \"Text embeddings, Unimodal (text), English, 512 input tokens truncation, Prefixes for queries/documents: not so necessary, 2023 year.\",\n",
      "  \"license\": \"mit\",\n",
      "  \"size_in_GB\": 0.067,\n",
      "  \"additional_files\": [],\n",
      "  \"dim\": 384,\n",
      "  \"tasks\": {}\n",
      "}\n",
      "{\n",
      "  \"model\": \"snowflake/snowflake-arctic-embed-xs\",\n",
      "  \"sources\": {\n",
      "    \"hf\": \"snowflake/snowflake-arctic-embed-xs\",\n",
      "    \"url\": null,\n",
      "    \"_deprecated_tar_struct\": false\n",
      "  },\n",
      "  \"model_file\": \"onnx/model.onnx\",\n",
      "  \"description\": \"Text embeddings, Unimodal (text), English, 512 input tokens truncation, Prefixes for queries/documents: necessary, 2024 year.\",\n",
      "  \"license\": \"apache-2.0\",\n",
      "  \"size_in_GB\": 0.09,\n",
      "  \"additional_files\": [],\n",
      "  \"dim\": 384,\n",
      "  \"tasks\": {}\n",
      "}\n",
      "{\n",
      "  \"model\": \"snowflake/snowflake-arctic-embed-s\",\n",
      "  \"sources\": {\n",
      "    \"hf\": \"snowflake/snowflake-arctic-embed-s\",\n",
      "    \"url\": null,\n",
      "    \"_deprecated_tar_struct\": false\n",
      "  },\n",
      "  \"model_file\": \"onnx/model.onnx\",\n",
      "  \"description\": \"Text embeddings, Unimodal (text), English, 512 input tokens truncation, Prefixes for queries/documents: necessary, 2024 year.\",\n",
      "  \"license\": \"apache-2.0\",\n",
      "  \"size_in_GB\": 0.13,\n",
      "  \"additional_files\": [],\n",
      "  \"dim\": 384,\n",
      "  \"tasks\": {}\n",
      "}\n",
      "{\n",
      "  \"model\": \"sentence-transformers/all-MiniLM-L6-v2\",\n",
      "  \"sources\": {\n",
      "    \"hf\": \"qdrant/all-MiniLM-L6-v2-onnx\",\n",
      "    \"url\": \"https://storage.googleapis.com/qdrant-fastembed/sentence-transformers-all-MiniLM-L6-v2.tar.gz\",\n",
      "    \"_deprecated_tar_struct\": true\n",
      "  },\n",
      "  \"model_file\": \"model.onnx\",\n",
      "  \"description\": \"Text embeddings, Unimodal (text), English, 256 input tokens truncation, Prefixes for queries/documents: not necessary, 2021 year.\",\n",
      "  \"license\": \"apache-2.0\",\n",
      "  \"size_in_GB\": 0.09,\n",
      "  \"additional_files\": [],\n",
      "  \"dim\": 384,\n",
      "  \"tasks\": {}\n",
      "}\n",
      "{\n",
      "  \"model\": \"sentence-transformers/paraphrase-multilingual-MiniLM-L12-v2\",\n",
      "  \"sources\": {\n",
      "    \"hf\": \"qdrant/paraphrase-multilingual-MiniLM-L12-v2-onnx-Q\",\n",
      "    \"url\": null,\n",
      "    \"_deprecated_tar_struct\": false\n",
      "  },\n",
      "  \"model_file\": \"model_optimized.onnx\",\n",
      "  \"description\": \"Text embeddings, Unimodal (text), Multilingual (~50 languages), 512 input tokens truncation, Prefixes for queries/documents: not necessary, 2019 year.\",\n",
      "  \"license\": \"apache-2.0\",\n",
      "  \"size_in_GB\": 0.22,\n",
      "  \"additional_files\": [],\n",
      "  \"dim\": 384,\n",
      "  \"tasks\": {}\n",
      "}\n"
     ]
    }
   ],
   "source": [
    "import json\n",
    "\n",
    "EMBEDDING_DIMENSIONALITY = 384\n",
    "\n",
    "for model in TextEmbedding.list_supported_models():\n",
    "    if model[\"dim\"] == EMBEDDING_DIMENSIONALITY:\n",
    "        print(json.dumps(model, indent=2))"
   ]
  },
  {
   "cell_type": "markdown",
   "id": "8570046f",
   "metadata": {},
   "source": [
    "## Q6. Indexing with qdrant (2 points)\n",
    "\n",
    "For the last question, we will use more documents.\n",
    "\n",
    "We will select only FAQ records from our ml zoomcamp:\n",
    "\n",
    "```python\n",
    "import requests \n",
    "\n",
    "docs_url = 'https://github.com/alexeygrigorev/llm-rag-workshop/raw/main/notebooks/documents.json'\n",
    "docs_response = requests.get(docs_url)\n",
    "documents_raw = docs_response.json()\n",
    "\n",
    "\n",
    "documents = []\n",
    "\n",
    "for course in documents_raw:\n",
    "    course_name = course['course']\n",
    "    if course_name != 'machine-learning-zoomcamp':\n",
    "        continue\n",
    "\n",
    "    for doc in course['documents']:\n",
    "        doc['course'] = course_name\n",
    "        documents.append(doc)\n",
    "```\n",
    "\n",
    "Add them to qdrant using the model form Q5.\n",
    "\n",
    "When adding the data, use both question and answer fields:\n",
    "\n",
    "```python\n",
    "text = doc['question'] + ' ' + doc['text']\n",
    "```\n",
    "\n",
    "After the data is inserted, use the question from Q1 for querying the collection.\n",
    "\n",
    "What's the highest score in the results?\n",
    "(The score for the first returned record):\n",
    "\n",
    "- 0.97\n",
    "- 0.87\n",
    "- 0.77\n",
    "- 0.67"
   ]
  },
  {
   "cell_type": "code",
   "execution_count": 47,
   "id": "5ee42e71",
   "metadata": {},
   "outputs": [],
   "source": [
    "import requests \n",
    "\n",
    "docs_url = 'https://github.com/alexeygrigorev/llm-rag-workshop/raw/main/notebooks/documents.json'\n",
    "docs_response = requests.get(docs_url)\n",
    "documents_raw = docs_response.json()\n",
    "\n",
    "\n",
    "documents = []\n",
    "\n",
    "for course in documents_raw:\n",
    "    course_name = course['course']\n",
    "    if course_name != 'machine-learning-zoomcamp':\n",
    "        continue\n",
    "\n",
    "    for doc in course['documents']:\n",
    "        doc['course'] = course_name\n",
    "        documents.append(doc)"
   ]
  },
  {
   "cell_type": "code",
   "execution_count": null,
   "id": "a7fd3c0b",
   "metadata": {},
   "outputs": [],
   "source": [
    "from qdrant_client import QdrantClient, models\n",
    "qd_client = QdrantClient(\"http://localhost:6333\")\n",
    "model_handle = \"BAAI/bge-small-en\"\n",
    "collection_name = \"ml-zoomcamp\"\n",
    "qd_client.delete_collection(collection_name=collection_name)\n",
    "qd_client.create_collection(\n",
    "    collection_name=collection_name,\n",
    "    vectors_config=models.VectorParams(\n",
    "        size=EMBEDDING_DIMENSIONALITY,\n",
    "        distance=models.Distance.COSINE\n",
    "    )\n",
    ")\n",
    "qd_client.create_payload_index(\n",
    "    collection_name=collection_name,\n",
    "    field_name=\"course\",\n",
    "    field_schema=\"keyword\"\n",
    ")\n",
    "points = []\n",
    "\n",
    "for i, doc in enumerate(documents):\n",
    "    text = doc['question'] + ' ' + doc['text']\n",
    "    vector = models.Document(text=text, model=model_handle)\n",
    "    point = models.PointStruct(\n",
    "        id=i,\n",
    "        vector=vector,\n",
    "        payload=doc\n",
    "    )\n",
    "    points.append(point)"
   ]
  },
  {
   "cell_type": "code",
   "execution_count": 64,
   "id": "b31927ba",
   "metadata": {},
   "outputs": [
    {
     "name": "stderr",
     "output_type": "stream",
     "text": [
      "Fetching 5 files: 100%|██████████| 5/5 [00:00<00:00,  7.29it/s]\n"
     ]
    },
    {
     "data": {
      "text/plain": [
       "UpdateResult(operation_id=2, status=<UpdateStatus.COMPLETED: 'completed'>)"
      ]
     },
     "execution_count": 64,
     "metadata": {},
     "output_type": "execute_result"
    }
   ],
   "source": [
    "qd_client.upsert(\n",
    "    collection_name=collection_name,\n",
    "    points=points\n",
    ")"
   ]
  },
  {
   "cell_type": "code",
   "execution_count": 65,
   "id": "6f35e25f",
   "metadata": {},
   "outputs": [],
   "source": [
    "question = 'I just discovered the course. Can I join now?'"
   ]
  },
  {
   "cell_type": "code",
   "execution_count": 66,
   "id": "a0d01378",
   "metadata": {},
   "outputs": [],
   "source": [
    "embedder = TextEmbedding(model_name=\"BAAI/bge-small-en\")"
   ]
  },
  {
   "cell_type": "code",
   "execution_count": 67,
   "id": "d4dfdd24",
   "metadata": {},
   "outputs": [],
   "source": [
    "query_vec = list(embedder.embed([question]))[0]"
   ]
  },
  {
   "cell_type": "code",
   "execution_count": 72,
   "id": "72649937",
   "metadata": {},
   "outputs": [
    {
     "name": "stdout",
     "output_type": "stream",
     "text": [
      "Найвищий бал: points=[ScoredPoint(id=14, version=2, score=0.8703172, payload={'text': 'Yes, you can. You won’t be able to submit some of the homeworks, but you can still take part in the course.\\nIn order to get a certificate, you need to submit 2 out of 3 course projects and review 3 peers’ Projects by the deadline. It means that if you join the course at the end of November and manage to work on two projects, you will still be eligible for a certificate.', 'section': 'General course-related questions', 'question': 'The course has already started. Can I still join it?', 'course': 'machine-learning-zoomcamp'}, vector=None, shard_key=None, order_value=None)]\n"
     ]
    }
   ],
   "source": [
    "search_results = qd_client.query_points(\n",
    "    collection_name=collection_name,\n",
    "    query=query_vec,\n",
    "    limit=1\n",
    ")\n",
    "\n",
    "print(\"Найвищий бал:\", search_results)"
   ]
  }
 ],
 "metadata": {
  "kernelspec": {
   "display_name": ".venv",
   "language": "python",
   "name": "python3"
  },
  "language_info": {
   "codemirror_mode": {
    "name": "ipython",
    "version": 3
   },
   "file_extension": ".py",
   "mimetype": "text/x-python",
   "name": "python",
   "nbconvert_exporter": "python",
   "pygments_lexer": "ipython3",
   "version": "3.12.3"
  }
 },
 "nbformat": 4,
 "nbformat_minor": 5
}
