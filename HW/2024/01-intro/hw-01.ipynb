{
 "cells": [
  {
   "cell_type": "code",
   "execution_count": 7,
   "id": "24be2911-a6f7-438a-a509-9dfa50f76eb9",
   "metadata": {
    "ExecuteTime": {
     "end_time": "2024-06-23T21:35:07.825030Z",
     "start_time": "2024-06-23T21:35:07.444989Z"
    }
   },
   "outputs": [],
   "source": [
    "import json\n",
    "import os\n",
    "import requests\n",
    "\n",
    "from tqdm.auto import tqdm"
   ]
  },
  {
   "cell_type": "code",
   "execution_count": 8,
   "id": "96b3dbf1-1b05-48e4-9d08-2c0d0d001f9e",
   "metadata": {
    "ExecuteTime": {
     "end_time": "2024-06-23T21:35:12.522172Z",
     "start_time": "2024-06-23T21:35:11.415281Z"
    }
   },
   "outputs": [],
   "source": [
    "docs_url = 'https://github.com/DataTalksClub/llm-zoomcamp/blob/main/01-intro/documents.json?raw=1'\n",
    "docs_response = requests.get(docs_url)\n",
    "documents_raw = docs_response.json()\n",
    "\n",
    "documents = []\n",
    "\n",
    "for course in documents_raw:\n",
    "    course_name = course['course']\n",
    "\n",
    "    for doc in course['documents']:\n",
    "        doc['course'] = course_name\n",
    "        documents.append(doc)"
   ]
  },
  {
   "cell_type": "code",
   "execution_count": 9,
   "id": "633367e110497023",
   "metadata": {
    "ExecuteTime": {
     "end_time": "2024-06-23T21:35:13.286447Z",
     "start_time": "2024-06-23T21:35:13.265144Z"
    }
   },
   "outputs": [
    {
     "data": {
      "text/plain": [
       "{'text': \"The purpose of this document is to capture frequently asked technical questions\\nThe exact day and hour of the course will be 15th Jan 2024 at 17h00. The course will start with the first  “Office Hours'' live.1\\nSubscribe to course public Google Calendar (it works from Desktop only).\\nRegister before the course starts using this link.\\nJoin the course Telegram channel with announcements.\\nDon’t forget to register in DataTalks.Club's Slack and join the channel.\",\n",
       " 'section': 'General course-related questions',\n",
       " 'question': 'Course - When will the course start?',\n",
       " 'course': 'data-engineering-zoomcamp'}"
      ]
     },
     "execution_count": 9,
     "metadata": {},
     "output_type": "execute_result"
    }
   ],
   "source": [
    "documents[0]"
   ]
  },
  {
   "cell_type": "code",
   "execution_count": 1,
   "id": "4a90c49d-e189-4ddc-a648-05dea911ab85",
   "metadata": {},
   "outputs": [
    {
     "name": "stdout",
     "output_type": "stream",
     "text": [
      "{\n",
      "  \"name\" : \"99e78d94dd39\",\n",
      "  \"cluster_name\" : \"docker-cluster\",\n",
      "  \"cluster_uuid\" : \"1q_klH2BTn-MYN7_VpLqrQ\",\n",
      "  \"version\" : {\n",
      "    \"number\" : \"8.4.3\",\n",
      "    \"build_flavor\" : \"default\",\n",
      "    \"build_type\" : \"docker\",\n",
      "    \"build_hash\" : \"42f05b9372a9a4a470db3b52817899b99a76ee73\",\n",
      "    \"build_date\" : \"2022-10-04T07:17:24.662462378Z\",\n",
      "    \"build_snapshot\" : false,\n",
      "    \"lucene_version\" : \"9.3.0\",\n",
      "    \"minimum_wire_compatibility_version\" : \"7.17.0\",\n",
      "    \"minimum_index_compatibility_version\" : \"7.0.0\"\n",
      "  },\n",
      "  \"tagline\" : \"You Know, for Search\"\n",
      "}\n"
     ]
    },
    {
     "name": "stderr",
     "output_type": "stream",
     "text": [
      "  % Total    % Received % Xferd  Average Speed   Time    Time     Time  Current\n",
      "                                 Dload  Upload   Total   Spent    Left  Speed\n",
      "\n",
      "  0     0    0     0    0     0      0      0 --:--:-- --:--:-- --:--:--     0\n",
      "100   539  100   539    0     0  31084      0 --:--:-- --:--:-- --:--:-- 31705\n"
     ]
    }
   ],
   "source": [
    "!curl http://localhost:9200"
   ]
  },
  {
   "cell_type": "code",
   "execution_count": 2,
   "id": "e5fb46a9a78e98e9",
   "metadata": {
    "ExecuteTime": {
     "end_time": "2024-06-23T21:50:58.108426Z",
     "start_time": "2024-06-23T21:50:58.095714Z"
    }
   },
   "outputs": [],
   "source": [
    "from elasticsearch import Elasticsearch\n",
    "from elasticsearch import NotFoundError\n",
    "\n",
    "es = Elasticsearch('http://localhost:9200',   request_timeout=60)\n",
    "\n",
    "INDEX_NAME =  \"course-questions\"\n",
    "\n",
    "index_settings = {\n",
    "    \"settings\": {\n",
    "        \"number_of_shards\": 1,\n",
    "        \"number_of_replicas\": 0\n",
    "    },\n",
    "    \"mappings\": {\n",
    "        \"properties\": {\n",
    "            \"text\": {\"type\": \"text\"},\n",
    "            \"section\": {\"type\": \"text\"},\n",
    "            \"question\": {\"type\": \"text\"},\n",
    "            \"course\": {\"type\": \"keyword\"}\n",
    "        }\n",
    "    }\n",
    "}"
   ]
  },
  {
   "cell_type": "code",
   "execution_count": 3,
   "id": "3fb9c822-b00c-4405-8c5c-43f794e27ceb",
   "metadata": {},
   "outputs": [
    {
     "name": "stdout",
     "output_type": "stream",
     "text": [
      "health status index uuid pri rep docs.count docs.deleted store.size pri.store.size\n"
     ]
    },
    {
     "name": "stderr",
     "output_type": "stream",
     "text": [
      "  % Total    % Received % Xferd  Average Speed   Time    Time     Time  Current\n",
      "                                 Dload  Upload   Total   Spent    Left  Speed\n",
      "\n",
      "  0     0    0     0    0     0      0      0 --:--:-- --:--:-- --:--:--     0\n",
      "100    83  100    83    0     0   2463      0 --:--:-- --:--:-- --:--:--  2515\n"
     ]
    }
   ],
   "source": [
    "# Отримати список індексів\n",
    "!curl -X GET \"localhost:9200/_cat/indices?v\""
   ]
  },
  {
   "cell_type": "code",
   "execution_count": 4,
   "id": "b434c734-005d-482f-a107-2a9c090071f1",
   "metadata": {},
   "outputs": [
    {
     "name": "stdout",
     "output_type": "stream",
     "text": [
      "{'acknowledged': True, 'shards_acknowledged': True, 'index': 'course-questions'}\n"
     ]
    }
   ],
   "source": [
    "try:\n",
    "    es.indices.get(index=INDEX_NAME)\n",
    "    print(f\"{INDEX_NAME} already exists\")\n",
    "    # Використання options() для передачі транспортних параметрів\n",
    "    es.options(ignore_status=[400, 404]).indices.delete(index=INDEX_NAME)\n",
    "except NotFoundError:\n",
    "    response = es.indices.create(index=INDEX_NAME,\n",
    "                                           settings=index_settings['settings'],\n",
    "                                           mappings=index_settings['mappings'])\n",
    "    print(response)"
   ]
  },
  {
   "cell_type": "code",
   "execution_count": 5,
   "id": "5140504b-970e-41e8-ab69-7b8d8e945a5e",
   "metadata": {},
   "outputs": [
    {
     "name": "stdout",
     "output_type": "stream",
     "text": [
      "ip         heap.percent ram.percent cpu load_1m load_5m load_15m node.role   master name\n",
      "172.17.0.2            7          89   1    0.01    0.23     0.18 cdfhilmrstw *      99e78d94dd39\n"
     ]
    },
    {
     "name": "stderr",
     "output_type": "stream",
     "text": [
      "  % Total    % Received % Xferd  Average Speed   Time    Time     Time  Current\n",
      "                                 Dload  Upload   Total   Spent    Left  Speed\n",
      "\n",
      "  0     0    0     0    0     0      0      0 --:--:-- --:--:-- --:--:--     0\n",
      "100   186  100   186    0     0   5440      0 --:--:-- --:--:-- --:--:--  5470\n"
     ]
    }
   ],
   "source": [
    "# переглянути інформацію про вузли\n",
    "!curl -X GET \"localhost:9200/_cat/nodes?v\""
   ]
  },
  {
   "cell_type": "code",
   "execution_count": 10,
   "id": "79bf692b48a1aa9e",
   "metadata": {
    "ExecuteTime": {
     "end_time": "2024-06-23T21:56:58.420004Z",
     "start_time": "2024-06-23T21:56:47.737607Z"
    }
   },
   "outputs": [
    {
     "data": {
      "application/vnd.jupyter.widget-view+json": {
       "model_id": "1734a039423e4544acfa293b9be058fb",
       "version_major": 2,
       "version_minor": 0
      },
      "text/plain": [
       "  0%|          | 0/948 [00:00<?, ?it/s]"
      ]
     },
     "metadata": {},
     "output_type": "display_data"
    },
    {
     "name": "stdout",
     "output_type": "stream",
     "text": [
      "Indexing complete.\n"
     ]
    }
   ],
   "source": [
    "# Проиндексируйте документы\n",
    "for doc in tqdm(documents):\n",
    "    es.index(index=INDEX_NAME, document=doc)\n",
    "\n",
    "print(\"Indexing complete.\")"
   ]
  },
  {
   "cell_type": "code",
   "execution_count": 19,
   "id": "2f3ef7c98e0695a1",
   "metadata": {
    "ExecuteTime": {
     "end_time": "2024-06-23T02:15:59.951780Z",
     "start_time": "2024-06-23T02:15:59.910741Z"
    }
   },
   "outputs": [
    {
     "name": "stdout",
     "output_type": "stream",
     "text": [
      "{'_id': '7jXpS5ABCPulKgLmfFkd',\n",
      " '_index': 'course-questions',\n",
      " '_score': 84.050095,\n",
      " '_source': {'course': 'machine-learning-zoomcamp',\n",
      "             'question': 'How do I debug a docker container?',\n",
      "             'section': '5. Deploying Machine Learning Models',\n",
      "             'text': 'Launch the container image in interactive mode and '\n",
      "                     'overriding the entrypoint, so that it starts a bash '\n",
      "                     'command.\\n'\n",
      "                     'docker run -it --entrypoint bash <image>\\n'\n",
      "                     'If the container is already running, execute a command '\n",
      "                     'in the specific container:\\n'\n",
      "                     'docker ps (find the container-id)\\n'\n",
      "                     'docker exec -it <container-id> bash\\n'\n",
      "                     '(Marcos MJD)'}}\n",
      "Top result score: 84.050095\n"
     ]
    }
   ],
   "source": [
    "from pprint import pprint\n",
    "\n",
    "# Определите поисковый запрос\n",
    "query=\"How do I execute a command in a running docker container?\"\n",
    "\n",
    "search_query = {\n",
    "        \"size\": 5,\n",
    "        \"query\": {\n",
    "            \"bool\": {\n",
    "                \"must\": {\n",
    "                    \"multi_match\": {\n",
    "                        \"query\": query,\n",
    "                        \"fields\": [\"question^4\", \"text\"],\n",
    "                        \"type\": \"best_fields\"\n",
    "                    }\n",
    "                }\n",
    "            }\n",
    "        }\n",
    "}\n",
    "\n",
    "# Выполните поиск\n",
    "response = es.search(index=INDEX_NAME,\n",
    "size=search_query['size'],\n",
    "query=search_query['query'])\n",
    "\n",
    "\n",
    "# Выведите топовый результат\n",
    "top_result = response['hits']['hits'][0]\n",
    "pprint(top_result)\n",
    "print(f\"Top result score: {top_result['_score']}\")"
   ]
  },
  {
   "cell_type": "markdown",
   "id": "b24a1207-83f4-4754-badc-a7ca3c4e909e",
   "metadata": {},
   "source": [
    "Тепер обмежимося питаннями про `machine-learning-zoomcamp`.\n",
    "Повернути 3 результати. Яке 3-тє питання повертає пошукова система?"
   ]
  },
  {
   "cell_type": "code",
   "execution_count": 21,
   "id": "73467dbf-c7e8-4667-83f2-fbc17d9835e1",
   "metadata": {},
   "outputs": [],
   "source": [
    "query=\"How do I execute a command in a running docker container?\"\n",
    "\n",
    "search_query = {\n",
    "        \"size\": 3,\n",
    "        \"query\": {\n",
    "            \"bool\": {\n",
    "                \"must\": {\n",
    "                    \"multi_match\": {\n",
    "                        \"query\": query,\n",
    "                        \"fields\": [\"question^4\", \"text\"],\n",
    "                        \"type\": \"best_fields\"\n",
    "                    }\n",
    "                },\n",
    "                \"filter\": {\n",
    "                    \"term\": {\n",
    "                        \"course\": \"machine-learning-zoomcamp\"\n",
    "                    }\n",
    "                }                \n",
    "            }\n",
    "        }\n",
    "}\n",
    "\n",
    "# Выполните поиск\n",
    "response = es.search(index=INDEX_NAME,\n",
    "size=search_query['size'],\n",
    "query=search_query['query'])"
   ]
  },
  {
   "cell_type": "code",
   "execution_count": 13,
   "id": "c92fff93-16e3-411d-838c-14308625e7f1",
   "metadata": {},
   "outputs": [],
   "source": [
    "res = {}\n",
    "res['hits']={'total': {'value': 345, 'relation': 'eq'},\n",
    " 'max_score': 84.050095,\n",
    " 'hits': [{'_index': 'course-questions',\n",
    "   '_id': '7jXpS5ABCPulKgLmfFkd',\n",
    "   '_score': 84.050095,\n",
    "   '_source': {'text': 'Launch the container image in interactive mode and overriding the entrypoint, so that it starts a bash command.\\ndocker run -it --entrypoint bash <image>\\nIf the container is already running, execute a command in the specific container:\\ndocker ps (find the container-id)\\ndocker exec -it <container-id> bash\\n(Marcos MJD)',\n",
    "    'section': '5. Deploying Machine Learning Models',\n",
    "    'question': 'How do I debug a docker container?',\n",
    "    'course': 'machine-learning-zoomcamp'}},\n",
    "  {'_index': 'course-questions',\n",
    "   '_id': 'DTXpS5ABCPulKgLmfVpf',\n",
    "   '_score': 51.04628,\n",
    "   '_source': {'text': \"You can copy files from your local machine into a Docker container using the docker cp command. Here's how to do it:\\nTo copy a file or directory from your local machine into a running Docker container, you can use the `docker cp command`. The basic syntax is as follows:\\ndocker cp /path/to/local/file_or_directory container_id:/path/in/container\\nHrithik Kumar Advani\",\n",
    "    'section': '5. Deploying Machine Learning Models',\n",
    "    'question': 'How do I copy files from my local machine to docker container?',\n",
    "    'course': 'machine-learning-zoomcamp'}},\n",
    "  {'_index': 'course-questions',\n",
    "   '_id': 'DjXpS5ABCPulKgLmfVpn',\n",
    "   '_score': 49.938507,\n",
    "   '_source': {'text': 'You can copy files from your local machine into a Docker container using the docker cp command. Here\\'s how to do it:\\nIn the Dockerfile, you can provide the folder containing the files that you want to copy over. The basic syntax is as follows:\\nCOPY [\"src/predict.py\", \"models/xgb_model.bin\", \"./\"]\\t\\t\\t\\t\\t\\t\\t\\t\\t\\t\\tGopakumar Gopinathan',\n",
    "    'section': '5. Deploying Machine Learning Models',\n",
    "    'question': 'How do I copy files from a different folder into docker container’s working directory?',\n",
    "    'course': 'machine-learning-zoomcamp'}}]}"
   ]
  },
  {
   "cell_type": "code",
   "execution_count": 16,
   "id": "511cc135-fb97-4e2d-bdb9-201a2fe5be42",
   "metadata": {},
   "outputs": [
    {
     "name": "stdout",
     "output_type": "stream",
     "text": [
      "{'hits': [{'_id': '7jXpS5ABCPulKgLmfFkd',\n",
      "           '_index': 'course-questions',\n",
      "           '_score': 84.050095,\n",
      "           '_source': {'course': 'machine-learning-zoomcamp',\n",
      "                       'question': 'How do I debug a docker container?',\n",
      "                       'section': '5. Deploying Machine Learning Models',\n",
      "                       'text': 'Launch the container image in interactive mode '\n",
      "                               'and overriding the entrypoint, so that it '\n",
      "                               'starts a bash command.\\n'\n",
      "                               'docker run -it --entrypoint bash <image>\\n'\n",
      "                               'If the container is already running, execute a '\n",
      "                               'command in the specific container:\\n'\n",
      "                               'docker ps (find the container-id)\\n'\n",
      "                               'docker exec -it <container-id> bash\\n'\n",
      "                               '(Marcos MJD)'}},\n",
      "          {'_id': 'DTXpS5ABCPulKgLmfVpf',\n",
      "           '_index': 'course-questions',\n",
      "           '_score': 51.04628,\n",
      "           '_source': {'course': 'machine-learning-zoomcamp',\n",
      "                       'question': 'How do I copy files from my local machine '\n",
      "                                   'to docker container?',\n",
      "                       'section': '5. Deploying Machine Learning Models',\n",
      "                       'text': 'You can copy files from your local machine '\n",
      "                               'into a Docker container using the docker cp '\n",
      "                               \"command. Here's how to do it:\\n\"\n",
      "                               'To copy a file or directory from your local '\n",
      "                               'machine into a running Docker container, you '\n",
      "                               'can use the `docker cp command`. The basic '\n",
      "                               'syntax is as follows:\\n'\n",
      "                               'docker cp /path/to/local/file_or_directory '\n",
      "                               'container_id:/path/in/container\\n'\n",
      "                               'Hrithik Kumar Advani'}},\n",
      "          {'_id': 'DjXpS5ABCPulKgLmfVpn',\n",
      "           '_index': 'course-questions',\n",
      "           '_score': 49.938507,\n",
      "           '_source': {'course': 'machine-learning-zoomcamp',\n",
      "                       'question': 'How do I copy files from a different '\n",
      "                                   'folder into docker container’s working '\n",
      "                                   'directory?',\n",
      "                       'section': '5. Deploying Machine Learning Models',\n",
      "                       'text': 'You can copy files from your local machine '\n",
      "                               'into a Docker container using the docker cp '\n",
      "                               \"command. Here's how to do it:\\n\"\n",
      "                               'In the Dockerfile, you can provide the folder '\n",
      "                               'containing the files that you want to copy '\n",
      "                               'over. The basic syntax is as follows:\\n'\n",
      "                               'COPY [\"src/predict.py\", '\n",
      "                               '\"models/xgb_model.bin\", '\n",
      "                               '\"./\"]\\t\\t\\t\\t\\t\\t\\t\\t\\t\\t\\tGopakumar '\n",
      "                               'Gopinathan'}}],\n",
      " 'max_score': 84.050095,\n",
      " 'total': {'relation': 'eq', 'value': 345}}\n"
     ]
    }
   ],
   "source": [
    "from pprint import pprint\n",
    "pprint(res['hits'])"
   ]
  },
  {
   "cell_type": "markdown",
   "id": "2bb70a5c-a1db-4119-9516-da629a21c9b2",
   "metadata": {},
   "source": [
    "Q3: 'How do I copy files from a different folder into docker container’s working directory?'"
   ]
  },
  {
   "cell_type": "code",
   "execution_count": 24,
   "id": "2c8aa6d7-ac9c-41fa-99ba-f3eb335f20be",
   "metadata": {},
   "outputs": [
    {
     "name": "stdout",
     "output_type": "stream",
     "text": [
      "{'text': 'Launch the container image in interactive mode and overriding the entrypoint, so that it starts a bash command.\\ndocker run -it --entrypoint bash <image>\\nIf the container is already running, execute a command in the specific container:\\ndocker ps (find the container-id)\\ndocker exec -it <container-id> bash\\n(Marcos MJD)', 'section': '5. Deploying Machine Learning Models', 'question': 'How do I debug a docker container?', 'course': 'machine-learning-zoomcamp'} \n",
      "\n",
      "\n",
      "{'text': \"You can copy files from your local machine into a Docker container using the docker cp command. Here's how to do it:\\nTo copy a file or directory from your local machine into a running Docker container, you can use the `docker cp command`. The basic syntax is as follows:\\ndocker cp /path/to/local/file_or_directory container_id:/path/in/container\\nHrithik Kumar Advani\", 'section': '5. Deploying Machine Learning Models', 'question': 'How do I copy files from my local machine to docker container?', 'course': 'machine-learning-zoomcamp'} \n",
      "\n",
      "\n",
      "{'text': 'You can copy files from your local machine into a Docker container using the docker cp command. Here\\'s how to do it:\\nIn the Dockerfile, you can provide the folder containing the files that you want to copy over. The basic syntax is as follows:\\nCOPY [\"src/predict.py\", \"models/xgb_model.bin\", \"./\"]\\t\\t\\t\\t\\t\\t\\t\\t\\t\\t\\tGopakumar Gopinathan', 'section': '5. Deploying Machine Learning Models', 'question': 'How do I copy files from a different folder into docker container’s working directory?', 'course': 'machine-learning-zoomcamp'} \n",
      "\n",
      "\n"
     ]
    }
   ],
   "source": [
    "result_docs = []\n",
    "    \n",
    "for hit in response['hits']['hits']:\n",
    "    result_docs.append(hit['_source'])\n",
    "\n",
    "result_docs\n",
    "for doc in result_docs:\n",
    "    print(doc, '\\n\\n')"
   ]
  },
  {
   "cell_type": "code",
   "execution_count": 27,
   "id": "4a5910c1-3ffd-46be-a31a-ae28e43c822e",
   "metadata": {},
   "outputs": [
    {
     "data": {
      "text/plain": [
       "'Q: How do I debug a docker container?\\nA: Launch the container image in interactive mode and overriding the entrypoint, so that it starts a bash command.\\ndocker run -it --entrypoint bash <image>\\nIf the container is already running, execute a command in the specific container:\\ndocker ps (find the container-id)\\ndocker exec -it <container-id> bash\\n(Marcos MJD)\\n\\nQ: How do I copy files from my local machine to docker container?\\nA: You can copy files from your local machine into a Docker container using the docker cp command. Here\\'s how to do it:\\nTo copy a file or directory from your local machine into a running Docker container, you can use the `docker cp command`. The basic syntax is as follows:\\ndocker cp /path/to/local/file_or_directory container_id:/path/in/container\\nHrithik Kumar Advani\\n\\nQ: How do I copy files from a different folder into docker container’s working directory?\\nA: You can copy files from your local machine into a Docker container using the docker cp command. Here\\'s how to do it:\\nIn the Dockerfile, you can provide the folder containing the files that you want to copy over. The basic syntax is as follows:\\nCOPY [\"src/predict.py\", \"models/xgb_model.bin\", \"./\"]\\t\\t\\t\\t\\t\\t\\t\\t\\t\\t\\tGopakumar Gopinathan\\n\\n'"
      ]
     },
     "execution_count": 27,
     "metadata": {},
     "output_type": "execute_result"
    }
   ],
   "source": [
    "context=\"\"\n",
    "for doc in result_docs:\n",
    "    context = context + f\"Q: {doc['question']}\\nA: {doc['text']}\\n\\n\"\n",
    "context"
   ]
  },
  {
   "cell_type": "code",
   "execution_count": 30,
   "id": "a0b0e685-8ee5-4d7b-90eb-eb02c44133d0",
   "metadata": {},
   "outputs": [],
   "source": [
    "def build_prompt(query, search_results):\n",
    "    prompt_template = \"\"\"\n",
    "Ви асистент викладача курсу. Дайте відповідь на ЗАПИТАННЯ на основі КОНТЕКСТУ з бази даних поширених запитань.\n",
    "Відповідаючи на ЗАПИТАННЯ, використовуйте лише факти з КОНТЕКСТУ.\n",
    "\n",
    "QUESTION: {question}\n",
    "\n",
    "CONTEXT: \n",
    "{context}\n",
    "\"\"\".strip()\n",
    "\n",
    "    context = \"\"\n",
    "    \n",
    "    for doc in search_results:\n",
    "        context = context + f\"Q: {doc['question']}\\nA: {doc['text']}\\n\\n\"    \n",
    "        \n",
    "    prompt = prompt_template.format(question=query, context=context).strip()\n",
    "    return prompt"
   ]
  },
  {
   "cell_type": "code",
   "execution_count": 31,
   "id": "71cccd95-ee89-4cd5-a4ff-067e6047fee1",
   "metadata": {},
   "outputs": [
    {
     "name": "stdout",
     "output_type": "stream",
     "text": [
      "Length of the prompt:  1475\n"
     ]
    }
   ],
   "source": [
    "prompt = build_prompt(query, result_docs)\n",
    "\n",
    "print(\"Length of the prompt: \", len(prompt))"
   ]
  },
  {
   "cell_type": "code",
   "execution_count": 4,
   "id": "19f9efbe-eb02-4c9e-8b62-0d571cc72230",
   "metadata": {},
   "outputs": [
    {
     "data": {
      "text/plain": [
       "206"
      ]
     },
     "execution_count": 4,
     "metadata": {},
     "output_type": "execute_result"
    }
   ],
   "source": [
    "len(prompt_template)"
   ]
  },
  {
   "cell_type": "code",
   "id": "4757a81b-6f7e-4ba5-990a-c93872660aea",
   "metadata": {
    "ExecuteTime": {
     "end_time": "2024-06-25T09:27:15.829320Z",
     "start_time": "2024-06-25T09:27:15.823586Z"
    }
   },
   "source": [
    "context_template = \"\"\"\n",
    "Q: {question}\n",
    "A: {text}\n",
    "\"\"\".strip()\n",
    "\n",
    "prompt_template = \"\"\"\n",
    "\n",
    "You're a course teaching assistant. Answer the QUESTION based on the CONTEXT from the FAQ database.\n",
    "Use only the facts from the CONTEXT when answering the QUESTION.\n",
    "\n",
    "QUESTION: {question}\n",
    "\n",
    "CONTEXT:\n",
    "{context}\n",
    "\"\"\".strip()"
   ],
   "outputs": [],
   "execution_count": 4
  },
  {
   "cell_type": "code",
   "id": "3b1e15b6-b7e2-44f4-a824-451a8b6c3920",
   "metadata": {
    "ExecuteTime": {
     "end_time": "2024-06-25T09:27:10.946849Z",
     "start_time": "2024-06-25T09:27:10.938303Z"
    }
   },
   "source": [
    "context = 'Q: How do I debug a docker container?\\nA: Launch the container image in interactive mode and overriding the entrypoint, so that it starts a bash command.\\ndocker run -it --entrypoint bash <image>\\nIf the container is already running, execute a command in the specific container:\\ndocker ps (find the container-id)\\ndocker exec -it <container-id> bash\\n(Marcos MJD)\\n\\nQ: How do I copy files from my local machine to docker container?\\nA: You can copy files from your local machine into a Docker container using the docker cp command. Here\\'s how to do it:\\nTo copy a file or directory from your local machine into a running Docker container, you can use the `docker cp command`. The basic syntax is as follows:\\ndocker cp /path/to/local/file_or_directory container_id:/path/in/container\\nHrithik Kumar Advani\\n\\nQ: How do I copy files from a different folder into docker container’s working directory?\\nA: You can copy files from your local machine into a Docker container using the docker cp command. Here\\'s how to do it:\\nIn the Dockerfile, you can provide the folder containing the files that you want to copy over. The basic syntax is as follows:\\nCOPY [\"src/predict.py\", \"models/xgb_model.bin\", \"./\"]\\t\\t\\t\\t\\t\\t\\t\\t\\t\\t\\tGopakumar Gopinathan\\n\\n'"
   ],
   "outputs": [],
   "execution_count": 2
  },
  {
   "cell_type": "code",
   "id": "29eff2b8-fa3c-4491-8860-a99c310e024e",
   "metadata": {
    "ExecuteTime": {
     "end_time": "2024-06-25T09:27:20.659293Z",
     "start_time": "2024-06-25T09:27:20.654818Z"
    }
   },
   "source": [
    "\n",
    "query=\"How do I execute a command in a running docker container?\"\n",
    "prompt = prompt_template.format(question=query, context=context).strip()"
   ],
   "outputs": [],
   "execution_count": 5
  },
  {
   "cell_type": "code",
   "id": "24b2eac7-81bb-428e-9cfc-ecf3313b8e8e",
   "metadata": {
    "ExecuteTime": {
     "end_time": "2024-06-25T09:27:31.218623Z",
     "start_time": "2024-06-25T09:27:31.205346Z"
    }
   },
   "source": [
    "import tiktoken\n",
    "encoding = tiktoken.encoding_for_model(\"gpt-4o\")\n",
    "print(\"Length of the prompt: \", len(prompt))\n",
    "\n",
    "tokens=encoding.encode(prompt)\n",
    "print('Num tokens: ', len(tokens))"
   ],
   "outputs": [
    {
     "name": "stdout",
     "output_type": "stream",
     "text": [
      "Length of the prompt:  1462\n",
      "Num tokens:  322\n"
     ]
    }
   ],
   "execution_count": 6
  },
  {
   "cell_type": "code",
   "id": "0dc6740c-97cf-4290-a8e6-6d0560b314df",
   "metadata": {
    "ExecuteTime": {
     "end_time": "2024-06-25T09:27:37.256922Z",
     "start_time": "2024-06-25T09:27:35.907911Z"
    }
   },
   "source": [
    "from dotenv import load_dotenv\n",
    "\n",
    "load_dotenv()\n",
    "\n",
    "from groq import Groq\n",
    "from dotenv import load_dotenv\n",
    "\n",
    "# Завантаження змінних середовища з файлу .env\n",
    "load_dotenv()\n",
    "\n",
    "client = Groq()\n",
    "\n",
    "response = client.chat.completions.create(\n",
    "        model='llama3-8b-8192',\n",
    "        messages=[{\"role\": \"user\", \"content\": prompt}]\n",
    ")\n",
    "    \n",
    "output = response.choices[0].message.content\n",
    "print(output)"
   ],
   "outputs": [
    {
     "name": "stdout",
     "output_type": "stream",
     "text": [
      "Based on the context, to execute a command in a running Docker container, you can use the `docker exec` command with the container ID, similar to the example provided:\n",
      "\n",
      "`docker exec -it <container-id> bash`\n",
      "\n",
      "Replace `<container-id>` with the actual ID of the container you want to execute the command in.\n"
     ]
    }
   ],
   "execution_count": 7
  },
  {
   "metadata": {
    "ExecuteTime": {
     "end_time": "2024-06-25T09:27:40.108857Z",
     "start_time": "2024-06-25T09:27:40.100894Z"
    }
   },
   "cell_type": "code",
   "source": [
    "tokens=encoding.encode(output)\n",
    "print('Num tokens: ', len(tokens))"
   ],
   "id": "1d8a80bd41ebf448",
   "outputs": [
    {
     "name": "stdout",
     "output_type": "stream",
     "text": [
      "Num tokens:  66\n"
     ]
    }
   ],
   "execution_count": 8
  },
  {
   "metadata": {},
   "cell_type": "code",
   "outputs": [
    {
     "name": "stdout",
     "output_type": "stream",
     "text": [
      "You're a course teaching assistant. Answer the QUESTION based on the CONTEXT from the FAQ database.\n",
      "Use only the facts from the CONTEXT when answering the QUESTION.\n",
      "\n",
      "QUESTION: How do I execute a command in a running docker container?\n",
      "\n",
      "CONTEXT:\n",
      "Q: How do I debug a docker container?\n",
      "A: Launch the container image in interactive mode and overriding the entrypoint, so that it starts a bash command.\n",
      "docker run -it --entrypoint bash <image>\n",
      "If the container is already running, execute a command in the specific container:\n",
      "docker ps (find the container-id)\n",
      "docker exec -it <container-id> bash\n",
      "(Marcos MJD)\n",
      "\n",
      "Q: How do I copy files from my local machine to docker container?\n",
      "A: You can copy files from your local machine into a Docker container using the docker cp command. Here's how to do it:\n",
      "To copy a file or directory from your local machine into a running Docker container, you can use the `docker cp command`. The basic syntax is as follows:\n",
      "docker cp /path/to/local/file_or_directory container_id:/path/in/container\n",
      "Hrithik Kumar Advani\n",
      "\n",
      "Q: How do I copy files from a different folder into docker container’s working directory?\n",
      "A: You can copy files from your local machine into a Docker container using the docker cp command. Here's how to do it:\n",
      "In the Dockerfile, you can provide the folder containing the files that you want to copy over. The basic syntax is as follows:\n",
      "COPY [\"src/predict.py\", \"models/xgb_model.bin\", \"./\"]\t\t\t\t\t\t\t\t\t\t\tGopakumar Gopinathan\n"
     ]
    }
   ],
   "execution_count": 13,
   "source": "print(prompt)",
   "id": "7d19874d-bbcc-4b56-8f99-f5d47b211bfa"
  },
  {
   "cell_type": "code",
   "execution_count": 5,
   "id": "62cce5cb8e8e1dcc",
   "metadata": {},
   "outputs": [
    {
     "data": {
      "text/html": [
       "<div>\n",
       "<style scoped>\n",
       "    .dataframe tbody tr th:only-of-type {\n",
       "        vertical-align: middle;\n",
       "    }\n",
       "\n",
       "    .dataframe tbody tr th {\n",
       "        vertical-align: top;\n",
       "    }\n",
       "\n",
       "    .dataframe thead th {\n",
       "        text-align: right;\n",
       "    }\n",
       "</style>\n",
       "<table border=\"1\" class=\"dataframe\">\n",
       "  <thead>\n",
       "    <tr style=\"text-align: right;\">\n",
       "      <th></th>\n",
       "      <th>course</th>\n",
       "      <th>section</th>\n",
       "      <th>question</th>\n",
       "      <th>text</th>\n",
       "    </tr>\n",
       "  </thead>\n",
       "  <tbody>\n",
       "    <tr>\n",
       "      <th>0</th>\n",
       "      <td>data-engineering-zoomcamp</td>\n",
       "      <td>General course-related questions</td>\n",
       "      <td>Course - When will the course start?</td>\n",
       "      <td>The purpose of this document is to capture fre...</td>\n",
       "    </tr>\n",
       "    <tr>\n",
       "      <th>1</th>\n",
       "      <td>data-engineering-zoomcamp</td>\n",
       "      <td>General course-related questions</td>\n",
       "      <td>Course - What are the prerequisites for this c...</td>\n",
       "      <td>GitHub - DataTalksClub data-engineering-zoomca...</td>\n",
       "    </tr>\n",
       "    <tr>\n",
       "      <th>2</th>\n",
       "      <td>data-engineering-zoomcamp</td>\n",
       "      <td>General course-related questions</td>\n",
       "      <td>Course - Can I still join the course after the...</td>\n",
       "      <td>Yes, even if you don't register, you're still ...</td>\n",
       "    </tr>\n",
       "    <tr>\n",
       "      <th>3</th>\n",
       "      <td>data-engineering-zoomcamp</td>\n",
       "      <td>General course-related questions</td>\n",
       "      <td>Course - I have registered for the Data Engine...</td>\n",
       "      <td>You don't need it. You're accepted. You can al...</td>\n",
       "    </tr>\n",
       "    <tr>\n",
       "      <th>4</th>\n",
       "      <td>data-engineering-zoomcamp</td>\n",
       "      <td>General course-related questions</td>\n",
       "      <td>Course - What can I do before the course starts?</td>\n",
       "      <td>You can start by installing and setting up all...</td>\n",
       "    </tr>\n",
       "  </tbody>\n",
       "</table>\n",
       "</div>"
      ],
      "text/plain": [
       "                      course                           section  \\\n",
       "0  data-engineering-zoomcamp  General course-related questions   \n",
       "1  data-engineering-zoomcamp  General course-related questions   \n",
       "2  data-engineering-zoomcamp  General course-related questions   \n",
       "3  data-engineering-zoomcamp  General course-related questions   \n",
       "4  data-engineering-zoomcamp  General course-related questions   \n",
       "\n",
       "                                            question  \\\n",
       "0               Course - When will the course start?   \n",
       "1  Course - What are the prerequisites for this c...   \n",
       "2  Course - Can I still join the course after the...   \n",
       "3  Course - I have registered for the Data Engine...   \n",
       "4   Course - What can I do before the course starts?   \n",
       "\n",
       "                                                text  \n",
       "0  The purpose of this document is to capture fre...  \n",
       "1  GitHub - DataTalksClub data-engineering-zoomca...  \n",
       "2  Yes, even if you don't register, you're still ...  \n",
       "3  You don't need it. You're accepted. You can al...  \n",
       "4  You can start by installing and setting up all...  "
      ]
     },
     "execution_count": 5,
     "metadata": {},
     "output_type": "execute_result"
    }
   ],
   "source": [
    "import pandas as pd\n",
    "\n",
    "df = pd.DataFrame(documents, columns=['course', 'section', 'question', 'text'])\n",
    "df.head()"
   ]
  }
 ],
 "metadata": {
  "kernelspec": {
   "display_name": "Python 3 (ipykernel)",
   "language": "python",
   "name": "python3"
  },
  "language_info": {
   "codemirror_mode": {
    "name": "ipython",
    "version": 3
   },
   "file_extension": ".py",
   "mimetype": "text/x-python",
   "name": "python",
   "nbconvert_exporter": "python",
   "pygments_lexer": "ipython3",
   "version": "3.11.3"
  }
 },
 "nbformat": 4,
 "nbformat_minor": 5
}
